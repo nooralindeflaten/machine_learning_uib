{
 "cells": [
  {
   "cell_type": "markdown",
   "id": "68f84c8f",
   "metadata": {},
   "source": [
    "# Task 2 - Object localization"
   ]
  },
  {
   "cell_type": "markdown",
   "id": "37cbec52",
   "metadata": {},
   "source": [
    "## Task 2.1 - Object Localization"
   ]
  },
  {
   "cell_type": "markdown",
   "id": "47d3b232",
   "metadata": {},
   "source": [
    "### Task 2.1.1 - Loading the Datasets\n",
    "We start by importing the packages we need. Then we load the data, and do a quick analysis length of them. Finally we normalize the data."
   ]
  },
  {
   "cell_type": "code",
   "execution_count": 3,
   "id": "e5cc4d54",
   "metadata": {},
   "outputs": [
    {
     "data": {
      "text/plain": [
       "<torch._C.Generator at 0x109abe470>"
      ]
     },
     "execution_count": 3,
     "metadata": {},
     "output_type": "execute_result"
    }
   ],
   "source": [
    "import torch\n",
    "import torch.nn as nn\n",
    "import torch.optim as optim\n",
    "from datetime import datetime\n",
    "import torchvision\n",
    "from torchvision import transforms\n",
    "import matplotlib.pyplot as plt\n",
    "import matplotlib.patches as patches\n",
    "import torch.nn.functional as F\n",
    "import numpy as np\n",
    "from collections import Counter\n",
    "\n",
    "torch.manual_seed(123)"
   ]
  },
  {
   "cell_type": "markdown",
   "id": "be320cf7",
   "metadata": {},
   "source": [
    "#### Loading the datasets"
   ]
  },
  {
   "cell_type": "code",
   "execution_count": 4,
   "id": "72788434",
   "metadata": {},
   "outputs": [],
   "source": [
    "localization_train = torch.load('../project02/localization_train.pt')\n",
    "localization_val = torch.load('../project02/localization_val.pt')\n",
    "localization_test = torch.load('../project02/localization_test.pt')"
   ]
  },
  {
   "cell_type": "markdown",
   "id": "e8e70c63",
   "metadata": {},
   "source": [
    "#### Some information about the dataset"
   ]
  },
  {
   "cell_type": "code",
   "execution_count": 5,
   "id": "167f8f82",
   "metadata": {},
   "outputs": [
    {
     "name": "stdout",
     "output_type": "stream",
     "text": [
      "59400\n",
      "6600\n",
      "11000\n"
     ]
    }
   ],
   "source": [
    "print(len(localization_train))\n",
    "print(len(localization_val))\n",
    "print(len(localization_test))"
   ]
  },
  {
   "cell_type": "code",
   "execution_count": 6,
   "id": "de0e30e9",
   "metadata": {},
   "outputs": [
    {
     "name": "stdout",
     "output_type": "stream",
     "text": [
      "Shape of datasets' inputs:  torch.Size([1, 48, 60])\n",
      "Shape of datasets' labels:  torch.Size([6])\n"
     ]
    }
   ],
   "source": [
    "print(\"Shape of datasets' inputs: \", localization_train[:][0].size()[1:])\n",
    "print(\"Shape of datasets' labels: \", localization_train[:][1].size()[1:])"
   ]
  },
  {
   "cell_type": "code",
   "execution_count": 7,
   "id": "37cdc62c",
   "metadata": {},
   "outputs": [
    {
     "name": "stdout",
     "output_type": "stream",
     "text": [
      "Number of instances of each label (0-9):\n",
      "tensor([ 5345, 11475,  5365,  5522,  5243,  4889,  5310,  5644,  5249,  5358])\n"
     ]
    }
   ],
   "source": [
    "class_labels = localization_train[:][1][:,5]\n",
    "print(\"Number of instances of each label (0-9):\")\n",
    "print(class_labels.unique(return_counts=True)[1]) "
   ]
  },
  {
   "cell_type": "markdown",
   "id": "3fd5663e",
   "metadata": {},
   "source": [
    "We see that there are many instances of the class label 1. One can consider to remove some of these observations. Other than this, the dataset seems well balanced.  "
   ]
  },
  {
   "cell_type": "code",
   "execution_count": 8,
   "id": "ba08fc29",
   "metadata": {},
   "outputs": [
    {
     "name": "stdout",
     "output_type": "stream",
     "text": [
      "Label 13 from the training dataset:  tensor([1.0000, 0.2333, 0.4792, 0.2000, 0.4167, 4.0000])\n"
     ]
    },
    {
     "data": {
      "image/png": "[encoded data removed]",
      "text/plain": [
       "<Figure size 640x480 with 1 Axes>"
      ]
     },
     "metadata": {},
     "output_type": "display_data"
    }
   ],
   "source": [
    "i = 12\n",
    "img, label = localization_train[i]\n",
    "fig, ax = plt.subplots()\n",
    "img_as_array = np.array(img)  \n",
    "img = img_as_array.squeeze()\n",
    "ax.imshow(img, cmap='gray')\n",
    "plt.title(f\"Image {i+1} from the training dataset\")\n",
    "plt.plot()\n",
    "print(f\"Label {i+1} from the training dataset: \", label)\n",
    "#NOTE: imshow flips the dimensions x and y"
   ]
  },
  {
   "cell_type": "markdown",
   "id": "fa54416a",
   "metadata": {},
   "source": [
    "#### Normalizing the data"
   ]
  },
  {
   "cell_type": "code",
   "execution_count": 9,
   "id": "73d6fffe",
   "metadata": {},
   "outputs": [
    {
     "name": "stdout",
     "output_type": "stream",
     "text": [
      "Data is normalized\n"
     ]
    }
   ],
   "source": [
    "imgs = torch.stack([img for img, _ in localization_train])\n",
    "\n",
    "normalizer = transforms.Normalize(\n",
    "                imgs.mean(dim=(0, 2, 3)), \n",
    "                imgs.std(dim=(0, 2, 3))  \n",
    "             )\n",
    "\n",
    "localization_train = [(normalizer(img), label) for img, label in localization_train]\n",
    "localization_val = [(normalizer(img), label) for img, label in localization_val]\n",
    "localization_test = [(normalizer(img), label) for img, label in localization_test]\n",
    "print('Data is normalized')"
   ]
  },
  {
   "cell_type": "markdown",
   "id": "c85bc0b1",
   "metadata": {},
   "source": []
  },
  {
   "cell_type": "markdown",
   "id": "442f4ad5",
   "metadata": {},
   "source": [
    "### Task 2.1.2 - Designing and Training Models\n",
    "\n",
    "We start by defining a training loop function, and then the combined loss function. Then we define and train x models."
   ]
  },
  {
   "cell_type": "markdown",
   "id": "1c0bcb58",
   "metadata": {},
   "source": [
    "#### Training loop"
   ]
  },
  {
   "cell_type": "code",
   "execution_count": 10,
   "id": "419643b5",
   "metadata": {},
   "outputs": [],
   "source": [
    "def train(num_epochs, data_loader, model, optimizer, loss_fn):\n",
    "    model.train()\n",
    "    n_batch = len(data_loader)\n",
    "    losses_train = []\n",
    "    optimizer.zero_grad(set_to_none=True)\n",
    "    \n",
    "    for epoch in range(1, num_epochs+1):\n",
    "    \n",
    "        loss_train = 0\n",
    "\n",
    "        for images, labels in data_loader:\n",
    "            outputs = model(images)\n",
    "            loss = loss_fn(outputs, labels)\n",
    "            loss.backward()\n",
    "            optimizer.step()\n",
    "            optimizer.zero_grad()\n",
    "            loss_train += loss.item()\n",
    "\n",
    "                \n",
    "        losses_train.append(loss_train / n_batch)\n",
    "\n",
    "        print('{}  |  Epoch {}  |  Training loss {:.3f}'.format(\n",
    "            datetime.now().time(), epoch, loss_train / n_batch))\n",
    "        \n",
    "    return losses_train"
   ]
  },
  {
   "cell_type": "code",
   "execution_count": 11,
   "id": "d637681f",
   "metadata": {},
   "outputs": [],
   "source": [
    "class CombinedLoss(nn.Module):\n",
    "    def __init__(self):\n",
    "        super(CombinedLoss, self).__init__()\n",
    "        self.bce_loss = nn.BCEWithLogitsLoss()\n",
    "        self.ce_loss = nn.CrossEntropyLoss()\n",
    "        self.mse_loss = nn.MSELoss()\n",
    "        \n",
    "    def forward(self, outputs, labels):\n",
    "\n",
    "        bce_loss = self.bce_loss(outputs[:,0], labels[:,0])\n",
    "            \n",
    "        for label in range(0,labels.size()[0]-1):\n",
    "            if labels[:,0][label] == 1.0:\n",
    "                mse_loss = self.mse_loss(outputs[:,1:5], labels[:,1:5]) \n",
    "                ce_loss = self.ce_loss(outputs[:,5:16], labels[:,5].long())\n",
    "            else: \n",
    "                mse_loss = 0\n",
    "                ce_loss = 0\n",
    "        \n",
    "        total_loss = bce_loss + mse_loss + ce_loss            \n",
    "                                    \n",
    "        return total_loss"
   ]
  },
  {
   "cell_type": "markdown",
   "id": "4d997ac7",
   "metadata": {},
   "source": [
    "#### Model 1"
   ]
  },
  {
   "cell_type": "code",
   "execution_count": 12,
   "id": "b0fa6b52",
   "metadata": {},
   "outputs": [],
   "source": [
    "class model1(nn.Module):\n",
    "    def __init__(self):\n",
    "        super(model1, self).__init__()\n",
    "        # 3 sized channel hence the 3 sized krenel. Training on the gpu or using cuda\n",
    "        self.conv1 = nn.Conv2d(1, 16, kernel_size=3, padding=1)  \n",
    "        self.conv2 = nn.Conv2d(16, 32, kernel_size=3, padding=1)\n",
    "        self.conv3 = nn.Conv2d(32, 64, kernel_size=3, padding=1)\n",
    "        self.conv4 = nn.Conv2d(64, 128, kernel_size=3, padding=1)\n",
    "        \n",
    "        self.pool = nn.MaxPool2d(2, 2)\n",
    "        self.flat = nn.Flatten()\n",
    "        \n",
    "        self.fc1 = nn.Linear(128 * 3 * 3, 120)\n",
    "        self.fc2 = nn.Linear(120, 84)\n",
    "        self.fc3 = nn.Linear(84, 15)\n",
    "\n",
    "    def forward(self, x):\n",
    "        x = self.pool(F.relu(self.conv1(x)))\n",
    "        x = self.pool(F.relu(self.conv2(x)))\n",
    "        x = self.pool(F.relu(self.conv3(x)))\n",
    "        x = self.pool(F.relu(self.conv4(x)))\n",
    "        \n",
    "        x = self.flat(x)\n",
    "        x = F.relu(self.fc1(x))\n",
    "        x = F.relu(self.fc2(x))\n",
    "        x = self.fc3(x)  \n",
    "        \n",
    "        return x\n"
   ]
  },
  {
   "cell_type": "code",
   "execution_count": 13,
   "id": "cfcc877b",
   "metadata": {},
   "outputs": [
    {
     "name": "stdout",
     "output_type": "stream",
     "text": [
      "18:09:04.386234  |  Epoch 1  |  Training loss 2.409\n"
     ]
    },
    {
     "ename": "KeyboardInterrupt",
     "evalue": "",
     "output_type": "error",
     "traceback": [
      "\u001b[0;31m---------------------------------------------------------------------------\u001b[0m",
      "\u001b[0;31mKeyboardInterrupt\u001b[0m                         Traceback (most recent call last)",
      "Cell \u001b[0;32mIn[13], line 7\u001b[0m\n\u001b[1;32m      4\u001b[0m model1 \u001b[38;5;241m=\u001b[39m model1()\n\u001b[1;32m      5\u001b[0m optimizer \u001b[38;5;241m=\u001b[39m optim\u001b[38;5;241m.\u001b[39mSGD(model1\u001b[38;5;241m.\u001b[39mparameters(), lr\u001b[38;5;241m=\u001b[39m\u001b[38;5;241m0.1\u001b[39m, momentum\u001b[38;5;241m=\u001b[39m\u001b[38;5;241m0.6\u001b[39m)\n\u001b[0;32m----> 7\u001b[0m \u001b[43mtrain\u001b[49m\u001b[43m(\u001b[49m\n\u001b[1;32m      8\u001b[0m \u001b[43m    \u001b[49m\u001b[43mnum_epochs\u001b[49m\u001b[43m \u001b[49m\u001b[38;5;241;43m=\u001b[39;49m\u001b[43m \u001b[49m\u001b[38;5;241;43m21\u001b[39;49m\u001b[43m,\u001b[49m\n\u001b[1;32m      9\u001b[0m \u001b[43m    \u001b[49m\u001b[43moptimizer\u001b[49m\u001b[43m \u001b[49m\u001b[38;5;241;43m=\u001b[39;49m\u001b[43m \u001b[49m\u001b[43moptimizer\u001b[49m\u001b[43m,\u001b[49m\n\u001b[1;32m     10\u001b[0m \u001b[43m    \u001b[49m\u001b[43mmodel\u001b[49m\u001b[43m \u001b[49m\u001b[38;5;241;43m=\u001b[39;49m\u001b[43m \u001b[49m\u001b[43mmodel1\u001b[49m\u001b[43m,\u001b[49m\n\u001b[1;32m     11\u001b[0m \u001b[43m    \u001b[49m\u001b[43mloss_fn\u001b[49m\u001b[43m \u001b[49m\u001b[38;5;241;43m=\u001b[39;49m\u001b[43m \u001b[49m\u001b[43mloss_fn\u001b[49m\u001b[43m,\u001b[49m\n\u001b[1;32m     12\u001b[0m \u001b[43m    \u001b[49m\u001b[43mdata_loader\u001b[49m\u001b[43m \u001b[49m\u001b[38;5;241;43m=\u001b[39;49m\u001b[43m \u001b[49m\u001b[43mtrain_loader\u001b[49m\u001b[43m,\u001b[49m\n\u001b[1;32m     13\u001b[0m \u001b[43m)\u001b[49m\n",
      "Cell \u001b[0;32mIn[10], line 12\u001b[0m, in \u001b[0;36mtrain\u001b[0;34m(num_epochs, data_loader, model, optimizer, loss_fn)\u001b[0m\n\u001b[1;32m      9\u001b[0m loss_train \u001b[38;5;241m=\u001b[39m \u001b[38;5;241m0\u001b[39m\n\u001b[1;32m     11\u001b[0m \u001b[38;5;28;01mfor\u001b[39;00m images, labels \u001b[38;5;129;01min\u001b[39;00m data_loader:\n\u001b[0;32m---> 12\u001b[0m     outputs \u001b[38;5;241m=\u001b[39m \u001b[43mmodel\u001b[49m\u001b[43m(\u001b[49m\u001b[43mimages\u001b[49m\u001b[43m)\u001b[49m\n\u001b[1;32m     13\u001b[0m     loss \u001b[38;5;241m=\u001b[39m loss_fn(outputs, labels)\n\u001b[1;32m     14\u001b[0m     loss\u001b[38;5;241m.\u001b[39mbackward()\n",
      "File \u001b[0;32m~/anaconda3/envs/inf265/lib/python3.10/site-packages/torch/nn/modules/module.py:1518\u001b[0m, in \u001b[0;36mModule._wrapped_call_impl\u001b[0;34m(self, *args, **kwargs)\u001b[0m\n\u001b[1;32m   1516\u001b[0m     \u001b[38;5;28;01mreturn\u001b[39;00m \u001b[38;5;28mself\u001b[39m\u001b[38;5;241m.\u001b[39m_compiled_call_impl(\u001b[38;5;241m*\u001b[39margs, \u001b[38;5;241m*\u001b[39m\u001b[38;5;241m*\u001b[39mkwargs)  \u001b[38;5;66;03m# type: ignore[misc]\u001b[39;00m\n\u001b[1;32m   1517\u001b[0m \u001b[38;5;28;01melse\u001b[39;00m:\n\u001b[0;32m-> 1518\u001b[0m     \u001b[38;5;28;01mreturn\u001b[39;00m \u001b[38;5;28;43mself\u001b[39;49m\u001b[38;5;241;43m.\u001b[39;49m\u001b[43m_call_impl\u001b[49m\u001b[43m(\u001b[49m\u001b[38;5;241;43m*\u001b[39;49m\u001b[43margs\u001b[49m\u001b[43m,\u001b[49m\u001b[43m \u001b[49m\u001b[38;5;241;43m*\u001b[39;49m\u001b[38;5;241;43m*\u001b[39;49m\u001b[43mkwargs\u001b[49m\u001b[43m)\u001b[49m\n",
      "File \u001b[0;32m~/anaconda3/envs/inf265/lib/python3.10/site-packages/torch/nn/modules/module.py:1527\u001b[0m, in \u001b[0;36mModule._call_impl\u001b[0;34m(self, *args, **kwargs)\u001b[0m\n\u001b[1;32m   1522\u001b[0m \u001b[38;5;66;03m# If we don't have any hooks, we want to skip the rest of the logic in\u001b[39;00m\n\u001b[1;32m   1523\u001b[0m \u001b[38;5;66;03m# this function, and just call forward.\u001b[39;00m\n\u001b[1;32m   1524\u001b[0m \u001b[38;5;28;01mif\u001b[39;00m \u001b[38;5;129;01mnot\u001b[39;00m (\u001b[38;5;28mself\u001b[39m\u001b[38;5;241m.\u001b[39m_backward_hooks \u001b[38;5;129;01mor\u001b[39;00m \u001b[38;5;28mself\u001b[39m\u001b[38;5;241m.\u001b[39m_backward_pre_hooks \u001b[38;5;129;01mor\u001b[39;00m \u001b[38;5;28mself\u001b[39m\u001b[38;5;241m.\u001b[39m_forward_hooks \u001b[38;5;129;01mor\u001b[39;00m \u001b[38;5;28mself\u001b[39m\u001b[38;5;241m.\u001b[39m_forward_pre_hooks\n\u001b[1;32m   1525\u001b[0m         \u001b[38;5;129;01mor\u001b[39;00m _global_backward_pre_hooks \u001b[38;5;129;01mor\u001b[39;00m _global_backward_hooks\n\u001b[1;32m   1526\u001b[0m         \u001b[38;5;129;01mor\u001b[39;00m _global_forward_hooks \u001b[38;5;129;01mor\u001b[39;00m _global_forward_pre_hooks):\n\u001b[0;32m-> 1527\u001b[0m     \u001b[38;5;28;01mreturn\u001b[39;00m \u001b[43mforward_call\u001b[49m\u001b[43m(\u001b[49m\u001b[38;5;241;43m*\u001b[39;49m\u001b[43margs\u001b[49m\u001b[43m,\u001b[49m\u001b[43m \u001b[49m\u001b[38;5;241;43m*\u001b[39;49m\u001b[38;5;241;43m*\u001b[39;49m\u001b[43mkwargs\u001b[49m\u001b[43m)\u001b[49m\n\u001b[1;32m   1529\u001b[0m \u001b[38;5;28;01mtry\u001b[39;00m:\n\u001b[1;32m   1530\u001b[0m     result \u001b[38;5;241m=\u001b[39m \u001b[38;5;28;01mNone\u001b[39;00m\n",
      "Cell \u001b[0;32mIn[12], line 18\u001b[0m, in \u001b[0;36mmodel1.forward\u001b[0;34m(self, x)\u001b[0m\n\u001b[1;32m     17\u001b[0m \u001b[38;5;28;01mdef\u001b[39;00m \u001b[38;5;21mforward\u001b[39m(\u001b[38;5;28mself\u001b[39m, x):\n\u001b[0;32m---> 18\u001b[0m     x \u001b[38;5;241m=\u001b[39m \u001b[38;5;28mself\u001b[39m\u001b[38;5;241m.\u001b[39mpool(F\u001b[38;5;241m.\u001b[39mrelu(\u001b[38;5;28;43mself\u001b[39;49m\u001b[38;5;241;43m.\u001b[39;49m\u001b[43mconv1\u001b[49m\u001b[43m(\u001b[49m\u001b[43mx\u001b[49m\u001b[43m)\u001b[49m))\n\u001b[1;32m     19\u001b[0m     x \u001b[38;5;241m=\u001b[39m \u001b[38;5;28mself\u001b[39m\u001b[38;5;241m.\u001b[39mpool(F\u001b[38;5;241m.\u001b[39mrelu(\u001b[38;5;28mself\u001b[39m\u001b[38;5;241m.\u001b[39mconv2(x)))\n\u001b[1;32m     20\u001b[0m     x \u001b[38;5;241m=\u001b[39m \u001b[38;5;28mself\u001b[39m\u001b[38;5;241m.\u001b[39mpool(F\u001b[38;5;241m.\u001b[39mrelu(\u001b[38;5;28mself\u001b[39m\u001b[38;5;241m.\u001b[39mconv3(x)))\n",
      "File \u001b[0;32m~/anaconda3/envs/inf265/lib/python3.10/site-packages/torch/nn/modules/module.py:1518\u001b[0m, in \u001b[0;36mModule._wrapped_call_impl\u001b[0;34m(self, *args, **kwargs)\u001b[0m\n\u001b[1;32m   1516\u001b[0m     \u001b[38;5;28;01mreturn\u001b[39;00m \u001b[38;5;28mself\u001b[39m\u001b[38;5;241m.\u001b[39m_compiled_call_impl(\u001b[38;5;241m*\u001b[39margs, \u001b[38;5;241m*\u001b[39m\u001b[38;5;241m*\u001b[39mkwargs)  \u001b[38;5;66;03m# type: ignore[misc]\u001b[39;00m\n\u001b[1;32m   1517\u001b[0m \u001b[38;5;28;01melse\u001b[39;00m:\n\u001b[0;32m-> 1518\u001b[0m     \u001b[38;5;28;01mreturn\u001b[39;00m \u001b[38;5;28;43mself\u001b[39;49m\u001b[38;5;241;43m.\u001b[39;49m\u001b[43m_call_impl\u001b[49m\u001b[43m(\u001b[49m\u001b[38;5;241;43m*\u001b[39;49m\u001b[43margs\u001b[49m\u001b[43m,\u001b[49m\u001b[43m \u001b[49m\u001b[38;5;241;43m*\u001b[39;49m\u001b[38;5;241;43m*\u001b[39;49m\u001b[43mkwargs\u001b[49m\u001b[43m)\u001b[49m\n",
      "File \u001b[0;32m~/anaconda3/envs/inf265/lib/python3.10/site-packages/torch/nn/modules/module.py:1527\u001b[0m, in \u001b[0;36mModule._call_impl\u001b[0;34m(self, *args, **kwargs)\u001b[0m\n\u001b[1;32m   1522\u001b[0m \u001b[38;5;66;03m# If we don't have any hooks, we want to skip the rest of the logic in\u001b[39;00m\n\u001b[1;32m   1523\u001b[0m \u001b[38;5;66;03m# this function, and just call forward.\u001b[39;00m\n\u001b[1;32m   1524\u001b[0m \u001b[38;5;28;01mif\u001b[39;00m \u001b[38;5;129;01mnot\u001b[39;00m (\u001b[38;5;28mself\u001b[39m\u001b[38;5;241m.\u001b[39m_backward_hooks \u001b[38;5;129;01mor\u001b[39;00m \u001b[38;5;28mself\u001b[39m\u001b[38;5;241m.\u001b[39m_backward_pre_hooks \u001b[38;5;129;01mor\u001b[39;00m \u001b[38;5;28mself\u001b[39m\u001b[38;5;241m.\u001b[39m_forward_hooks \u001b[38;5;129;01mor\u001b[39;00m \u001b[38;5;28mself\u001b[39m\u001b[38;5;241m.\u001b[39m_forward_pre_hooks\n\u001b[1;32m   1525\u001b[0m         \u001b[38;5;129;01mor\u001b[39;00m _global_backward_pre_hooks \u001b[38;5;129;01mor\u001b[39;00m _global_backward_hooks\n\u001b[1;32m   1526\u001b[0m         \u001b[38;5;129;01mor\u001b[39;00m _global_forward_hooks \u001b[38;5;129;01mor\u001b[39;00m _global_forward_pre_hooks):\n\u001b[0;32m-> 1527\u001b[0m     \u001b[38;5;28;01mreturn\u001b[39;00m \u001b[43mforward_call\u001b[49m\u001b[43m(\u001b[49m\u001b[38;5;241;43m*\u001b[39;49m\u001b[43margs\u001b[49m\u001b[43m,\u001b[49m\u001b[43m \u001b[49m\u001b[38;5;241;43m*\u001b[39;49m\u001b[38;5;241;43m*\u001b[39;49m\u001b[43mkwargs\u001b[49m\u001b[43m)\u001b[49m\n\u001b[1;32m   1529\u001b[0m \u001b[38;5;28;01mtry\u001b[39;00m:\n\u001b[1;32m   1530\u001b[0m     result \u001b[38;5;241m=\u001b[39m \u001b[38;5;28;01mNone\u001b[39;00m\n",
      "File \u001b[0;32m~/anaconda3/envs/inf265/lib/python3.10/site-packages/torch/nn/modules/conv.py:460\u001b[0m, in \u001b[0;36mConv2d.forward\u001b[0;34m(self, input)\u001b[0m\n\u001b[1;32m    459\u001b[0m \u001b[38;5;28;01mdef\u001b[39;00m \u001b[38;5;21mforward\u001b[39m(\u001b[38;5;28mself\u001b[39m, \u001b[38;5;28minput\u001b[39m: Tensor) \u001b[38;5;241m-\u001b[39m\u001b[38;5;241m>\u001b[39m Tensor:\n\u001b[0;32m--> 460\u001b[0m     \u001b[38;5;28;01mreturn\u001b[39;00m \u001b[38;5;28;43mself\u001b[39;49m\u001b[38;5;241;43m.\u001b[39;49m\u001b[43m_conv_forward\u001b[49m\u001b[43m(\u001b[49m\u001b[38;5;28;43minput\u001b[39;49m\u001b[43m,\u001b[49m\u001b[43m \u001b[49m\u001b[38;5;28;43mself\u001b[39;49m\u001b[38;5;241;43m.\u001b[39;49m\u001b[43mweight\u001b[49m\u001b[43m,\u001b[49m\u001b[43m \u001b[49m\u001b[38;5;28;43mself\u001b[39;49m\u001b[38;5;241;43m.\u001b[39;49m\u001b[43mbias\u001b[49m\u001b[43m)\u001b[49m\n",
      "File \u001b[0;32m~/anaconda3/envs/inf265/lib/python3.10/site-packages/torch/nn/modules/conv.py:456\u001b[0m, in \u001b[0;36mConv2d._conv_forward\u001b[0;34m(self, input, weight, bias)\u001b[0m\n\u001b[1;32m    452\u001b[0m \u001b[38;5;28;01mif\u001b[39;00m \u001b[38;5;28mself\u001b[39m\u001b[38;5;241m.\u001b[39mpadding_mode \u001b[38;5;241m!=\u001b[39m \u001b[38;5;124m'\u001b[39m\u001b[38;5;124mzeros\u001b[39m\u001b[38;5;124m'\u001b[39m:\n\u001b[1;32m    453\u001b[0m     \u001b[38;5;28;01mreturn\u001b[39;00m F\u001b[38;5;241m.\u001b[39mconv2d(F\u001b[38;5;241m.\u001b[39mpad(\u001b[38;5;28minput\u001b[39m, \u001b[38;5;28mself\u001b[39m\u001b[38;5;241m.\u001b[39m_reversed_padding_repeated_twice, mode\u001b[38;5;241m=\u001b[39m\u001b[38;5;28mself\u001b[39m\u001b[38;5;241m.\u001b[39mpadding_mode),\n\u001b[1;32m    454\u001b[0m                     weight, bias, \u001b[38;5;28mself\u001b[39m\u001b[38;5;241m.\u001b[39mstride,\n\u001b[1;32m    455\u001b[0m                     _pair(\u001b[38;5;241m0\u001b[39m), \u001b[38;5;28mself\u001b[39m\u001b[38;5;241m.\u001b[39mdilation, \u001b[38;5;28mself\u001b[39m\u001b[38;5;241m.\u001b[39mgroups)\n\u001b[0;32m--> 456\u001b[0m \u001b[38;5;28;01mreturn\u001b[39;00m \u001b[43mF\u001b[49m\u001b[38;5;241;43m.\u001b[39;49m\u001b[43mconv2d\u001b[49m\u001b[43m(\u001b[49m\u001b[38;5;28;43minput\u001b[39;49m\u001b[43m,\u001b[49m\u001b[43m \u001b[49m\u001b[43mweight\u001b[49m\u001b[43m,\u001b[49m\u001b[43m \u001b[49m\u001b[43mbias\u001b[49m\u001b[43m,\u001b[49m\u001b[43m \u001b[49m\u001b[38;5;28;43mself\u001b[39;49m\u001b[38;5;241;43m.\u001b[39;49m\u001b[43mstride\u001b[49m\u001b[43m,\u001b[49m\n\u001b[1;32m    457\u001b[0m \u001b[43m                \u001b[49m\u001b[38;5;28;43mself\u001b[39;49m\u001b[38;5;241;43m.\u001b[39;49m\u001b[43mpadding\u001b[49m\u001b[43m,\u001b[49m\u001b[43m \u001b[49m\u001b[38;5;28;43mself\u001b[39;49m\u001b[38;5;241;43m.\u001b[39;49m\u001b[43mdilation\u001b[49m\u001b[43m,\u001b[49m\u001b[43m \u001b[49m\u001b[38;5;28;43mself\u001b[39;49m\u001b[38;5;241;43m.\u001b[39;49m\u001b[43mgroups\u001b[49m\u001b[43m)\u001b[49m\n",
      "\u001b[0;31mKeyboardInterrupt\u001b[0m: "
     ]
    }
   ],
   "source": [
    "torch.manual_seed(13)\n",
    "train_loader = torch.utils.data.DataLoader(localization_train, batch_size=128, shuffle=True) \n",
    "loss_fn = CombinedLoss()\n",
    "model1 = model1()\n",
    "optimizer = optim.SGD(model1.parameters(), lr=0.1, momentum=0.6)\n",
    "\n",
    "train(\n",
    "    num_epochs = 21,\n",
    "    optimizer = optimizer,\n",
    "    model = model1,\n",
    "    loss_fn = loss_fn,\n",
    "    data_loader = train_loader,\n",
    ")"
   ]
  },
  {
   "cell_type": "markdown",
   "id": "4d0e91bb",
   "metadata": {},
   "source": [
    "#### Model 2"
   ]
  },
  {
   "cell_type": "code",
   "execution_count": null,
   "id": "0ad93ffd",
   "metadata": {},
   "outputs": [],
   "source": [
    "class model2(nn.Module):\n",
    "    def __init__(self):\n",
    "        super(model2, self).__init__()\n",
    "        self.conv1 = nn.Conv2d(1, 16, kernel_size=3)  \n",
    "        self.conv2 = nn.Conv2d(16, 32, kernel_size=3)\n",
    "        \n",
    "        self.pool = nn.MaxPool2d(2, 2)  \n",
    "        self.flat = nn.Flatten()\n",
    "        \n",
    "        self.fc1 = nn.Linear(32 * 22 * 28, 120)  \n",
    "        self.fc2 = nn.Linear(120, 15)  \n",
    "        \n",
    "    def forward(self, x):\n",
    "        x = F.relu(self.conv1(x))\n",
    "        x = F.relu(self.conv2(x))\n",
    "        x = self.pool(x)\n",
    "\n",
    "        x = self.flat(x) \n",
    "        x = F.relu(self.fc1(x))\n",
    "        x = self.fc2(x) \n",
    "\n",
    "        return x"
   ]
  },
  {
   "cell_type": "code",
   "execution_count": null,
   "id": "5c13778f",
   "metadata": {},
   "outputs": [
    {
     "name": "stdout",
     "output_type": "stream",
     "text": [
      "10:33:47.521688  |  Epoch 1  |  Training loss 2.312\n",
      "10:37:14.317180  |  Epoch 2  |  Training loss 1.719\n",
      "10:40:29.130990  |  Epoch 3  |  Training loss 1.292\n",
      "10:43:48.301693  |  Epoch 4  |  Training loss 0.979\n",
      "10:47:08.612310  |  Epoch 5  |  Training loss 0.757\n",
      "10:50:31.002252  |  Epoch 6  |  Training loss 0.545\n",
      "10:53:48.464551  |  Epoch 7  |  Training loss 0.390\n",
      "10:57:06.939874  |  Epoch 8  |  Training loss 0.259\n",
      "11:00:26.107397  |  Epoch 9  |  Training loss 0.143\n",
      "11:03:36.630423  |  Epoch 10  |  Training loss 0.077\n",
      "11:06:44.579318  |  Epoch 11  |  Training loss 0.039\n",
      "11:14:44.769733  |  Epoch 12  |  Training loss 0.026\n",
      "11:18:11.988209  |  Epoch 13  |  Training loss 0.022\n",
      "11:21:36.718131  |  Epoch 14  |  Training loss 0.019\n",
      "11:24:56.667471  |  Epoch 15  |  Training loss 0.017\n",
      "11:28:11.541689  |  Epoch 16  |  Training loss 0.014\n",
      "11:31:25.693489  |  Epoch 17  |  Training loss 0.014\n",
      "11:34:27.187925  |  Epoch 18  |  Training loss 0.012\n",
      "11:37:19.606396  |  Epoch 19  |  Training loss 0.011\n",
      "11:40:22.175728  |  Epoch 20  |  Training loss 0.011\n",
      "11:43:08.420242  |  Epoch 21  |  Training loss 0.010\n",
      "\n"
     ]
    }
   ],
   "source": [
    "torch.manual_seed(13)\n",
    "train_loader = torch.utils.data.DataLoader(localization_train, batch_size=128, shuffle=True) \n",
    "loss_fn = CombinedLoss()\n",
    "model2 = model2()\n",
    "optimizer = optim.SGD(model2.parameters(), lr=0.1)\n",
    "\n",
    "train(\n",
    "    num_epochs = 21,\n",
    "    optimizer = optimizer,\n",
    "    model = model2,\n",
    "    loss_fn = loss_fn,\n",
    "    data_loader = train_loader,\n",
    ")"
   ]
  },
  {
   "cell_type": "markdown",
   "id": "5cab3f60",
   "metadata": {},
   "source": [
    "#### Model 3\n",
    "Here, we will use the same architecture as in model 2, but add some L2 regularization to avoid what seems like overfitting in model 2."
   ]
  },
  {
   "cell_type": "code",
   "execution_count": null,
   "id": "545a003b",
   "metadata": {},
   "outputs": [],
   "source": [
    "class model3(nn.Module):\n",
    "    def __init__(self):\n",
    "        super(model3, self).__init__()\n",
    "        self.conv1 = nn.Conv2d(1, 16, kernel_size=3)  \n",
    "        self.conv2 = nn.Conv2d(16, 32, kernel_size=3)\n",
    "        \n",
    "        self.pool = nn.MaxPool2d(2, 2)  \n",
    "        self.flat = nn.Flatten()\n",
    "\n",
    "        self.fc1 = nn.Linear(32 * 22 * 28, 120) \n",
    "        self.fc2 = nn.Linear(120, 15) \n",
    "\n",
    "    def forward(self, x):\n",
    "        x = F.relu(self.conv1(x))\n",
    "        x = F.relu(self.conv2(x))\n",
    "        x = self.pool(x)\n",
    "\n",
    "        x = self.flat(x) \n",
    "        x = F.relu(self.fc1(x))\n",
    "        x = self.fc2(x)  \n",
    "\n",
    "        return x"
   ]
  },
  {
   "cell_type": "code",
   "execution_count": null,
   "id": "58b75707",
   "metadata": {},
   "outputs": [
    {
     "name": "stdout",
     "output_type": "stream",
     "text": [
      "11:56:32.059820  |  Epoch 1  |  Training loss 2.527\n",
      "11:59:15.793302  |  Epoch 2  |  Training loss 2.542\n",
      "12:02:00.738851  |  Epoch 3  |  Training loss 2.512\n",
      "12:04:54.737526  |  Epoch 4  |  Training loss 2.533\n",
      "12:07:42.767713  |  Epoch 5  |  Training loss 2.556\n",
      "12:10:31.642504  |  Epoch 6  |  Training loss 2.508\n",
      "12:13:16.710421  |  Epoch 7  |  Training loss 2.527\n",
      "12:16:03.135057  |  Epoch 8  |  Training loss 2.492\n",
      "12:18:50.216021  |  Epoch 9  |  Training loss 2.593\n",
      "12:21:37.421294  |  Epoch 10  |  Training loss 2.587\n",
      "12:24:24.207649  |  Epoch 11  |  Training loss 2.521\n",
      "12:27:11.888767  |  Epoch 12  |  Training loss 2.496\n",
      "12:29:58.358299  |  Epoch 13  |  Training loss 2.536\n",
      "12:32:45.106544  |  Epoch 14  |  Training loss 2.607\n",
      "12:35:41.561887  |  Epoch 15  |  Training loss 2.577\n",
      "12:38:33.102076  |  Epoch 16  |  Training loss 2.475\n",
      "12:41:19.721773  |  Epoch 17  |  Training loss 2.552\n",
      "12:44:10.521253  |  Epoch 18  |  Training loss 2.557\n",
      "12:46:59.247943  |  Epoch 19  |  Training loss 2.533\n",
      "12:49:47.835459  |  Epoch 20  |  Training loss 2.560\n",
      "12:52:35.326680  |  Epoch 21  |  Training loss 2.472\n"
     ]
    },
    {
     "data": {
      "text/plain": [
       "[2.527435950406136,\n",
       " 2.541723019717842,\n",
       " 2.512498909267046,\n",
       " 2.532762550730859,\n",
       " 2.555777545802055,\n",
       " 2.5077598051358296,\n",
       " 2.5270692457434953,\n",
       " 2.491910998154712,\n",
       " 2.5933891601780408,\n",
       " 2.586583052207065,\n",
       " 2.52113233567566,\n",
       " 2.4955681917487933,\n",
       " 2.535846809514107,\n",
       " 2.6073951245956524,\n",
       " 2.577120669522593,\n",
       " 2.475156189228899,\n",
       " 2.5515436996054905,\n",
       " 2.557499431185825,\n",
       " 2.532988166200217,\n",
       " 2.559960762691754,\n",
       " 2.4716141561026213]"
      ]
     },
     "execution_count": 279,
     "metadata": {},
     "output_type": "execute_result"
    }
   ],
   "source": [
    "torch.manual_seed(13)\n",
    "train_loader = torch.utils.data.DataLoader(localization_train, batch_size=128, shuffle=True) \n",
    "loss_fn = CombinedLoss()\n",
    "model3 = model3()\n",
    "optimizer = optim.SGD(model3.parameters(), lr=0.1, weight_decay=0.3)\n",
    "\n",
    "train(\n",
    "    num_epochs = 21,\n",
    "    optimizer = optimizer,\n",
    "    model = model3,\n",
    "    loss_fn = loss_fn,\n",
    "    data_loader = train_loader,\n",
    ")\n",
    "print('')"
   ]
  },
  {
   "cell_type": "markdown",
   "id": "9c4f6879",
   "metadata": {},
   "source": [
    "#### Model 4"
   ]
  },
  {
   "cell_type": "code",
   "execution_count": null,
   "id": "1dc4d1be",
   "metadata": {},
   "outputs": [],
   "source": [
    "class model4(nn.Module):\n",
    "    def __init__(self):\n",
    "        super(model4, self).__init__()\n",
    "        self.conv1 = nn.Conv2d(1, 16, kernel_size=3)  \n",
    "        self.conv2 = nn.Conv2d(16, 32, kernel_size=3)  \n",
    "        self.conv3 = nn.Conv2d(32, 64, kernel_size=3)  \n",
    "        \n",
    "        self.pool = nn.MaxPool2d(2, 2)  \n",
    "        self.flat = nn.Flatten()\n",
    "\n",
    "        self.fc1 = nn.Linear(64 * 9 * 12, 120)  \n",
    "        self.fc2 = nn.Linear(120, 15)\n",
    "\n",
    "    def forward(self, x):\n",
    "        x = F.relu(self.conv1(x))\n",
    "        x = self.pool(x)\n",
    "        x = F.relu(self.conv2(x))\n",
    "        x = F.relu(self.conv3(x))\n",
    "        x = self.pool(x)  \n",
    "        \n",
    "        x = self.flat(x)\n",
    "        x = F.relu(self.fc1(x))\n",
    "        x = self.fc2(x)\n",
    "        \n",
    "        return x\n"
   ]
  },
  {
   "cell_type": "code",
   "execution_count": null,
   "id": "3758ff5f",
   "metadata": {},
   "outputs": [
    {
     "name": "stdout",
     "output_type": "stream",
     "text": [
      "13:11:02.229362  |  Epoch 1  |  Training loss 2.508\n",
      "13:13:21.775118  |  Epoch 2  |  Training loss 2.342\n",
      "13:15:40.365829  |  Epoch 3  |  Training loss 2.180\n",
      "13:18:13.362099  |  Epoch 4  |  Training loss 1.933\n",
      "13:20:50.346727  |  Epoch 5  |  Training loss 1.826\n",
      "13:23:17.076960  |  Epoch 6  |  Training loss 1.754\n",
      "13:25:29.672882  |  Epoch 7  |  Training loss 1.676\n",
      "13:27:39.362016  |  Epoch 8  |  Training loss 1.668\n",
      "13:29:49.340755  |  Epoch 9  |  Training loss 1.563\n",
      "13:32:01.805714  |  Epoch 10  |  Training loss 1.520\n",
      "13:34:19.183908  |  Epoch 11  |  Training loss 1.478\n",
      "13:36:39.207137  |  Epoch 12  |  Training loss 1.335\n",
      "13:39:01.320514  |  Epoch 13  |  Training loss 1.230\n",
      "13:41:21.152232  |  Epoch 14  |  Training loss 1.137\n",
      "13:43:39.622851  |  Epoch 15  |  Training loss 1.067\n",
      "13:45:58.146018  |  Epoch 16  |  Training loss 1.020\n",
      "13:48:21.132018  |  Epoch 17  |  Training loss 0.980\n",
      "13:50:43.026618  |  Epoch 18  |  Training loss 0.897\n",
      "13:53:01.321650  |  Epoch 19  |  Training loss 0.869\n",
      "13:55:16.394807  |  Epoch 20  |  Training loss 0.845\n",
      "13:57:32.276743  |  Epoch 21  |  Training loss 0.794\n",
      "\n"
     ]
    }
   ],
   "source": [
    "torch.manual_seed(13)\n",
    "train_loader = torch.utils.data.DataLoader(localization_train, batch_size=128, shuffle=True) \n",
    "loss_fn = CombinedLoss()\n",
    "model4 = model4()\n",
    "optimizer = optim.SGD(model4.parameters(), lr=0.01)\n",
    "\n",
    "train(\n",
    "    num_epochs = 21,\n",
    "    optimizer = optimizer,\n",
    "    model = model4,\n",
    "    loss_fn = loss_fn,\n",
    "    data_loader = train_loader,\n",
    ")\n",
    "print('')"
   ]
  },
  {
   "cell_type": "code",
   "execution_count": null,
   "id": "5a802fa0",
   "metadata": {},
   "outputs": [],
   "source": [
    "class model5(nn.Module):\n",
    "    def __init__(self):\n",
    "        super(model5, self).__init__()\n",
    "        self.conv1 = nn.Conv2d(1, 16, kernel_size=5)\n",
    "        self.conv2 = nn.Conv2d(16, 32, kernel_size=5)\n",
    "        self.conv3 = nn.Conv2d(32, 64, kernel_size=3)\n",
    "        \n",
    "        self.pool = nn.MaxPool2d(2, 2)\n",
    "        self.flat = nn.Flatten()\n",
    "\n",
    "        \n",
    "        self.fc1 = nn.Linear(64 * 8 * 11, 120)  \n",
    "        self.fc2 = nn.Linear(120, 15)\n",
    "\n",
    "    def forward(self, x):\n",
    "        x = self.pool(F.relu(self.conv1(x)))\n",
    "        x = F.relu(self.conv2(x))\n",
    "        x = self.pool(F.relu(self.conv3(x)))\n",
    "\n",
    "        x = self.flat(x)\n",
    "        x = F.relu(self.fc1(x))\n",
    "        x = self.fc2(x)\n",
    "        \n",
    "        return x"
   ]
  },
  {
   "cell_type": "code",
   "execution_count": null,
   "id": "4cfbed52",
   "metadata": {},
   "outputs": [
    {
     "name": "stdout",
     "output_type": "stream",
     "text": [
      "17:26:23.199270  |  Epoch 1  |  Training loss 2.519\n",
      "17:29:06.048957  |  Epoch 2  |  Training loss 2.365\n",
      "17:31:56.221638  |  Epoch 3  |  Training loss 2.158\n",
      "17:34:45.866263  |  Epoch 4  |  Training loss 1.842\n",
      "17:37:33.578140  |  Epoch 5  |  Training loss 1.806\n",
      "17:40:18.645286  |  Epoch 6  |  Training loss 1.759\n",
      "17:43:02.150224  |  Epoch 7  |  Training loss 1.723\n",
      "17:45:48.024399  |  Epoch 8  |  Training loss 1.678\n",
      "17:48:33.709925  |  Epoch 9  |  Training loss 1.555\n",
      "17:51:17.334129  |  Epoch 10  |  Training loss 1.482\n",
      "17:54:03.526182  |  Epoch 11  |  Training loss 1.340\n",
      "17:56:48.552489  |  Epoch 12  |  Training loss 1.255\n",
      "17:59:35.843241  |  Epoch 13  |  Training loss 1.198\n",
      "18:02:19.146497  |  Epoch 14  |  Training loss 1.082\n",
      "18:04:56.442609  |  Epoch 15  |  Training loss 1.015\n",
      "18:07:37.018757  |  Epoch 16  |  Training loss 0.925\n",
      "18:10:12.000069  |  Epoch 17  |  Training loss 0.913\n",
      "18:12:53.524608  |  Epoch 18  |  Training loss 0.849\n",
      "18:15:39.723554  |  Epoch 19  |  Training loss 0.802\n",
      "18:18:25.818149  |  Epoch 20  |  Training loss 0.762\n",
      "18:21:05.906436  |  Epoch 21  |  Training loss 0.681\n",
      "\n"
     ]
    }
   ],
   "source": [
    "torch.manual_seed(13)\n",
    "train_loader = torch.utils.data.DataLoader(localization_train, batch_size=128, shuffle=True) \n",
    "loss_fn = CombinedLoss()\n",
    "model5 = model5()\n",
    "optimizer = optim.SGD(model5.parameters(), lr=0.01)\n",
    "\n",
    "train(\n",
    "    num_epochs = 21,\n",
    "    optimizer = optimizer,\n",
    "    model = model5,\n",
    "    loss_fn = loss_fn,\n",
    "    data_loader = train_loader,\n",
    ")\n",
    "print('')"
   ]
  },
  {
   "cell_type": "code",
   "execution_count": null,
   "id": "e7f20d38",
   "metadata": {},
   "outputs": [],
   "source": [
    "class model6(nn.Module):\n",
    "    def __init__(self):\n",
    "        super(model6, self).__init__()\n",
    "        self.conv1 = nn.Conv2d(1, 16, kernel_size=5, padding=2) \n",
    "        self.conv2 = nn.Conv2d(16, 32, kernel_size=3, padding=1) \n",
    "        self.conv3 = nn.Conv2d(32, 64, kernel_size=3)  \n",
    "        self.conv4 = nn.Conv2d(64, 128, kernel_size=3)  \n",
    "\n",
    "        self.pool = nn.MaxPool2d(2, 2)  \n",
    "        self.flat = nn.Flatten()\n",
    "\n",
    "        self.fc1 = nn.Linear(128 * 10 * 13, 512)\n",
    "        self.fc2 = nn.Linear(512, 15)\n",
    "\n",
    "    def forward(self, x):\n",
    "        x = F.relu(self.conv1(x))\n",
    "        x = F.relu(self.conv2(x))\n",
    "        x = F.relu(self.conv3(x))\n",
    "        x = self.pool(x)\n",
    "        x = F.relu(self.conv4(x))\n",
    "        x = self.pool(x)\n",
    "        \n",
    "        x = self.flat(x)\n",
    "        x = F.relu(self.fc1(x))\n",
    "        x = self.fc2(x)\n",
    "\n",
    "        return x\n"
   ]
  },
  {
   "cell_type": "code",
   "execution_count": null,
   "id": "def87bec",
   "metadata": {},
   "outputs": [
    {
     "name": "stdout",
     "output_type": "stream",
     "text": [
      "09:34:53.720820  |  Epoch 1  |  Training loss 2.532\n",
      "09:50:31.661156  |  Epoch 2  |  Training loss 2.415\n",
      "10:06:09.701578  |  Epoch 3  |  Training loss 2.229\n",
      "10:53:36.023156  |  Epoch 4  |  Training loss 1.851\n",
      "11:07:19.571555  |  Epoch 5  |  Training loss 1.790\n",
      "11:20:24.789229  |  Epoch 6  |  Training loss 1.713\n",
      "11:33:22.220517  |  Epoch 7  |  Training loss 1.622\n",
      "11:46:27.140231  |  Epoch 8  |  Training loss 1.538\n",
      "11:59:20.943348  |  Epoch 9  |  Training loss 1.478\n",
      "13:22:38.497028  |  Epoch 10  |  Training loss 1.463\n",
      "13:36:28.003830  |  Epoch 11  |  Training loss 1.362\n",
      "13:49:34.809032  |  Epoch 12  |  Training loss 1.292\n",
      "14:02:54.234642  |  Epoch 13  |  Training loss 1.170\n",
      "14:15:55.760502  |  Epoch 14  |  Training loss 1.054\n",
      "14:29:02.273623  |  Epoch 15  |  Training loss 0.894\n",
      "14:42:11.944149  |  Epoch 16  |  Training loss 0.829\n",
      "14:55:06.326054  |  Epoch 17  |  Training loss 0.752\n",
      "15:07:57.893622  |  Epoch 18  |  Training loss 0.701\n",
      "15:20:41.615677  |  Epoch 19  |  Training loss 0.663\n",
      "15:34:17.455355  |  Epoch 20  |  Training loss 0.591\n",
      "15:47:15.204607  |  Epoch 21  |  Training loss 0.606\n",
      "\n"
     ]
    }
   ],
   "source": [
    "torch.manual_seed(13)\n",
    "train_loader = torch.utils.data.DataLoader(localization_train, batch_size=128, shuffle=True) \n",
    "loss_fn = CombinedLoss()\n",
    "model6 = model6()\n",
    "optimizer = optim.SGD(model6.parameters(), lr=0.01)\n",
    "\n",
    "train(\n",
    "    num_epochs = 21,\n",
    "    optimizer = optimizer,\n",
    "    model = model6,\n",
    "    loss_fn = loss_fn,\n",
    "    data_loader = train_loader,\n",
    ")\n",
    "print('')"
   ]
  },
  {
   "cell_type": "markdown",
   "id": "8ab1dfb4",
   "metadata": {},
   "source": [
    "### Task 2.1.3 - Model Selection \n",
    "\n",
    "We start by defining a function that calculates intersection over union. Then we define a function compute_accuracy that calculates the IoU and the fraction of correct classification (the binary variable is the same for the prediction and true label, and eventually that the predicted class is correct."
   ]
  },
  {
   "cell_type": "code",
   "execution_count": null,
   "id": "28ae0a28",
   "metadata": {},
   "outputs": [],
   "source": [
    "def bbox_iou(box1, box2):\n",
    "\n",
    "    box1_x1 = box1[0] - box1[2] / 2 #top left x\n",
    "    box1_y1 = box1[1] - box1[3] / 2 #top left y\n",
    "    box1_x2 = box1[0] + box1[2] / 2 #bottom right x\n",
    "    box1_y2 = box1[1] + box1[3] / 2 #bottom right y\n",
    "\n",
    "    box2_x1 = box2[0] - box2[2] / 2 #top left x\n",
    "    box2_y1 = box2[1] - box2[3] / 2 #top left y\n",
    "    box2_x2 = box2[0] + box2[2] / 2 #bottom right x\n",
    "    box2_y2 = box2[1] + box2[3] / 2 #bottom right y\n",
    "\n",
    "    x_left = max(box1_x1, box2_x1) \n",
    "    y_top = max(box1_y1, box2_y1) \n",
    "    x_right = min(box1_x2, box2_x2)\n",
    "    y_bottom = min(box1_y2, box2_y2)\n",
    "    \n",
    "    intersection_area = max(0, x_right - x_left) * max(0, y_bottom - y_top)\n",
    "    \n",
    "    box1_area = box1[2] * box1[3]\n",
    "    box2_area = box2[2] * box2[3]\n",
    "    \n",
    "    union_area = box1_area + box2_area - intersection_area\n",
    "\n",
    "    iou = intersection_area / union_area\n",
    "    return iou\n"
   ]
  },
  {
   "cell_type": "code",
   "execution_count": null,
   "id": "07c63bf4",
   "metadata": {},
   "outputs": [],
   "source": [
    "def compute_accuracy(model, data_loader):\n",
    "    model.eval()\n",
    "    total_iou = 0\n",
    "    correct_classifications = 0\n",
    "    no_of_objects = 0\n",
    "    total = 0\n",
    "\n",
    "    with torch.no_grad():\n",
    "        for imgs, labels in data_loader:\n",
    "            \n",
    "            outputs = model(imgs)\n",
    "            batch_size = labels.size()[0]\n",
    "            \n",
    "            for i in range(0,batch_size-1):           \n",
    "                if labels[:,0][i] > 0.5:\n",
    "                    total_iou += bbox_iou(outputs[:,1:5][i], labels[:,1:5][i])\n",
    "                    if outputs[:,0][i] > 0 and torch.argmax(outputs[:,5:16][i]) == labels[:,5][i].long():\n",
    "                        correct_classifications += 1 \n",
    "                else:\n",
    "                    total_iou += 0\n",
    "                    if outputs[:,0][i] < 0:\n",
    "                        correct_classifications += 1\n",
    "\n",
    "            no_of_objects += labels[:,0].sum()\n",
    "                \n",
    "            total += batch_size\n",
    "            \n",
    "\n",
    "    acc =  correct_classifications / total\n",
    "    avg_iou = total_iou / no_of_objects\n",
    "    \n",
    "    return avg_iou, acc\n"
   ]
  },
  {
   "cell_type": "markdown",
   "id": "95f7cbb5",
   "metadata": {},
   "source": [
    "#### Compute validation accuracy for the models"
   ]
  },
  {
   "cell_type": "code",
   "execution_count": null,
   "id": "5178082d",
   "metadata": {},
   "outputs": [
    {
     "name": "stdout",
     "output_type": "stream",
     "text": [
      "-------\n",
      "MODEL 1\n",
      "-------\n",
      "Intersection over Union:  0.174\n",
      "Accuracy:  0.64\n",
      "Average of accuracy and IoU:  0.407\n"
     ]
    }
   ],
   "source": [
    "print(\"-------\")\n",
    "print(\"MODEL 1\")\n",
    "print(\"-------\")\n",
    "\n",
    "val_loader = torch.utils.data.DataLoader(localization_val, batch_size=64, shuffle=False)\n",
    "ioutest, acctest = compute_accuracy(model1, val_loader)\n",
    "\n",
    "print(\"Intersection over Union: \", round(float(ioutest), 3))\n",
    "print(\"Accuracy: \", round(float(acctest), 3))\n",
    "print(\"Average of accuracy and IoU: \", round(float(0.5*ioutest+0.5*acctest), 3))"
   ]
  },
  {
   "cell_type": "code",
   "execution_count": null,
   "id": "18fdaadb",
   "metadata": {},
   "outputs": [
    {
     "name": "stdout",
     "output_type": "stream",
     "text": [
      "-------\n",
      "MODEL 2\n",
      "-------\n",
      "Intersection over Union:  0.375\n",
      "Accuracy:  0.736\n",
      "Average of accuracy and IoU:  0.556\n"
     ]
    }
   ],
   "source": [
    "print(\"-------\")\n",
    "print(\"MODEL 2\")\n",
    "print(\"-------\")\n",
    "\n",
    "val_loader = torch.utils.data.DataLoader(localization_val, batch_size=128, shuffle=False)\n",
    "ioutest, acctest = compute_accuracy(model2, val_loader)\n",
    "\n",
    "print(\"Intersection over Union: \", round(float(ioutest), 3))\n",
    "print(\"Accuracy: \", round(float(acctest), 3))\n",
    "print(\"Average of accuracy and IoU: \", round(float(0.5*ioutest+0.5*acctest), 3))"
   ]
  },
  {
   "cell_type": "code",
   "execution_count": null,
   "id": "199526bb",
   "metadata": {},
   "outputs": [
    {
     "name": "stdout",
     "output_type": "stream",
     "text": [
      "-------\n",
      "MODEL 3\n",
      "-------\n",
      "Intersection over Union:  0.05\n",
      "Accuracy:  0.1\n",
      "Average of accuracy and IoU:  0.075\n"
     ]
    }
   ],
   "source": [
    "print(\"-------\")\n",
    "print(\"MODEL 3\")\n",
    "print(\"-------\")\n",
    "\n",
    "val_loader = torch.utils.data.DataLoader(localization_val, batch_size=128, shuffle=False)\n",
    "ioutest, acctest = compute_accuracy(model3, val_loader)\n",
    "\n",
    "print(\"Intersection over Union: \", round(float(ioutest), 3))\n",
    "print(\"Accuracy: \", round(float(acctest), 3))\n",
    "print(\"Average of accuracy and IoU: \", round(float(0.5*ioutest+0.5*acctest), 3))"
   ]
  },
  {
   "cell_type": "code",
   "execution_count": null,
   "id": "c091b24b",
   "metadata": {},
   "outputs": [
    {
     "name": "stdout",
     "output_type": "stream",
     "text": [
      "-------\n",
      "MODEL 4\n",
      "-------\n",
      "Intersection over Union:  0.409\n",
      "Accuracy:  0.684\n",
      "Average of accuracy and IoU:  0.547\n"
     ]
    }
   ],
   "source": [
    "print(\"-------\")\n",
    "print(\"MODEL 4\")\n",
    "print(\"-------\")\n",
    "\n",
    "val_loader = torch.utils.data.DataLoader(localization_val, batch_size=128, shuffle=False)\n",
    "ioutest, acctest = compute_accuracy(model4, val_loader)\n",
    "\n",
    "print(\"Intersection over Union: \", round(float(ioutest), 3))\n",
    "print(\"Accuracy: \", round(float(acctest), 3))\n",
    "print(\"Average of accuracy and IoU: \", round(float(0.5*ioutest+0.5*acctest), 3))"
   ]
  },
  {
   "cell_type": "code",
   "execution_count": null,
   "id": "13656e86",
   "metadata": {},
   "outputs": [
    {
     "name": "stdout",
     "output_type": "stream",
     "text": [
      "-------\n",
      "MODEL 5\n",
      "-------\n",
      "Intersection over Union:  0.323\n",
      "Accuracy:  0.567\n",
      "Average of accuracy and IoU:  0.445\n"
     ]
    }
   ],
   "source": [
    "print(\"-------\")\n",
    "print(\"MODEL 5\")\n",
    "print(\"-------\")\n",
    "\n",
    "val_loader = torch.utils.data.DataLoader(localization_val, batch_size=128, shuffle=False)\n",
    "ioutest, acctest = compute_accuracy(model5, traintest_loader)\n",
    "\n",
    "print(\"Intersection over Union: \", round(float(ioutest), 3))\n",
    "print(\"Accuracy: \", round(float(acctest), 3))\n",
    "print(\"Average of accuracy and IoU: \", round(float(0.5*ioutest+0.5*acctest), 3))"
   ]
  },
  {
   "cell_type": "code",
   "execution_count": null,
   "id": "90110317",
   "metadata": {},
   "outputs": [
    {
     "name": "stdout",
     "output_type": "stream",
     "text": [
      "-------\n",
      "MODEL 6\n",
      "-------\n",
      "Intersection over Union:  0.271\n",
      "Accuracy:  0.719\n",
      "Average of accuracy and IoU:  0.495\n"
     ]
    }
   ],
   "source": [
    "print(\"-------\")\n",
    "print(\"MODEL 6\")\n",
    "print(\"-------\")\n",
    "\n",
    "val_loader = torch.utils.data.DataLoader(localization_val, batch_size=128, shuffle=False)\n",
    "ioutest, acctest = compute_accuracy(model6, val_loader)\n",
    "\n",
    "print(\"Intersection over Union: \", round(float(ioutest), 3))\n",
    "print(\"Accuracy: \", round(float(acctest), 3))\n",
    "print(\"Average of accuracy and IoU: \", round(float(0.5*ioutest+0.5*acctest), 3))"
   ]
  },
  {
   "cell_type": "markdown",
   "id": "d7afa27b",
   "metadata": {},
   "source": [
    "### Task 2.1.4 - Model Evaluation\n",
    "Model 2 turned out to perform best on the validation set, and so we choose this."
   ]
  },
  {
   "cell_type": "code",
   "execution_count": null,
   "id": "cfee1a6b",
   "metadata": {},
   "outputs": [
    {
     "name": "stdout",
     "output_type": "stream",
     "text": [
      "-------\n",
      "MODEL 2\n",
      "-------\n",
      "Intersection over Union:  0.372\n",
      "Accuracy:  0.734\n",
      "Average of accuracy and IoU:  0.553\n"
     ]
    }
   ],
   "source": [
    "print(\"-------\")\n",
    "print(\"MODEL 2\")\n",
    "print(\"-------\")\n",
    "\n",
    "test_loader = torch.utils.data.DataLoader(localization_test, batch_size=128, shuffle=False)\n",
    "ioutest, acctest = compute_accuracy(model2, test_loader)\n",
    "\n",
    "print(\"Intersection over Union: \", round(float(ioutest), 3))\n",
    "print(\"Accuracy: \", round(float(acctest), 3))\n",
    "print(\"Average of accuracy and IoU: \", round(float(0.5*ioutest+0.5*acctest), 3))"
   ]
  },
  {
   "cell_type": "markdown",
   "id": "d8230f48",
   "metadata": {},
   "source": [
    "### Task 2.1.5 - Plotting Some Images and Boxes\n",
    "We start by predicting a single batch of the test data and store the output. Then we plot four images with true and predicted bounding boxes, as well as printing the true and predicted labels."
   ]
  },
  {
   "cell_type": "code",
   "execution_count": null,
   "id": "66bd4855",
   "metadata": {},
   "outputs": [],
   "source": [
    "small_loader = torch.utils.data.DataLoader(localization_test[0:64], batch_size=64, shuffle=False)\n",
    "with torch.no_grad():\n",
    "    for imgs, labels in small_loader:\n",
    "        model2.eval()\n",
    "        outputs = model2(imgs)\n",
    "        true = labels"
   ]
  },
  {
   "cell_type": "code",
   "execution_count": null,
   "id": "ffdce680",
   "metadata": {},
   "outputs": [
    {
     "data": {
      "image/png": "[encoded data removed]",
      "text/plain": [
       "<Figure size 640x480 with 1 Axes>"
      ]
     },
     "metadata": {},
     "output_type": "display_data"
    },
    {
     "name": "stdout",
     "output_type": "stream",
     "text": [
      "True label:  7\n",
      "Predicted label:  7\n"
     ]
    }
   ],
   "source": [
    "sample = 11\n",
    "img, label = localization_test[sample]\n",
    "true_box = label[1:5]\n",
    "fig, ax = plt.subplots()\n",
    "img_as_array = np.array(img)  \n",
    "img = img_as_array.squeeze()\n",
    "ax.imshow(img, cmap='gray')    \n",
    "# NOTE: imshow flips the dimensions, so that we need to multiply x with 60 and y with 48\n",
    "true_rect = patches.Rectangle((60*(true_box[0]-true_box[2]/2), 48*(true_box[1]-true_box[3]/2)), 60*true_box[2], 48*true_box[3], linewidth = 2, edgecolor='r', facecolor='none', label = \"True box\")\n",
    "pred = outputs[:,1:5][sample]\n",
    "pred_rect = patches.Rectangle((60*(pred[0]-pred[2]/2), 48*(pred[1]-pred[3]/2)), 60*pred[2], 48*pred[3], linewidth=2, edgecolor='g', facecolor='none', label = \"Predicted box\")\n",
    "ax.add_patch(true_rect)\n",
    "ax.add_patch(pred_rect)\n",
    "plt.legend(loc=\"upper left\")\n",
    "plt.title(f\"Image {sample+1} from the test dataset\")\n",
    "plt.show()\n",
    "print(\"True label: \", label[5].long().item())\n",
    "print(\"Predicted label: \", torch.argmax(outputs[:,5:16][sample]).item())"
   ]
  },
  {
   "cell_type": "code",
   "execution_count": null,
   "id": "2580d306",
   "metadata": {},
   "outputs": [
    {
     "data": {
      "image/png": "[encoded data removed]",
      "text/plain": [
       "<Figure size 640x480 with 1 Axes>"
      ]
     },
     "metadata": {},
     "output_type": "display_data"
    },
    {
     "name": "stdout",
     "output_type": "stream",
     "text": [
      "True label:  7\n",
      "Predicted label:  2\n"
     ]
    }
   ],
   "source": [
    "sample = 7\n",
    "img, label = localization_test[sample]\n",
    "true_box = label[1:5]\n",
    "fig, ax = plt.subplots()\n",
    "img_as_array = np.array(img)  \n",
    "img = img_as_array.squeeze()\n",
    "ax.imshow(img, cmap='gray')     \n",
    "# NOTE: imshow flips the dimensions, so that we need to multiply x with 60 and y with 48\n",
    "true_rect = patches.Rectangle((60*(true_box[0]-true_box[2]/2), 48*(true_box[1]-true_box[3]/2)), 60*true_box[2], 48*true_box[3], linewidth = 2, edgecolor='r', facecolor='none', label = \"True box\")\n",
    "pred = outputs[:,1:5][sample]\n",
    "pred_rect = patches.Rectangle((60*(pred[0]-pred[2]/2), 48*(pred[1]-pred[3]/2)), 60*pred[2], 48*pred[3], linewidth=2, edgecolor='g', facecolor='none', label = \"Predicted box\")\n",
    "ax.add_patch(true_rect)\n",
    "ax.add_patch(pred_rect)\n",
    "plt.legend(loc=\"upper left\")\n",
    "plt.title(f\"Image {sample+1} from the test dataset\")\n",
    "plt.show()\n",
    "print(\"True label: \", label[5].long().item())\n",
    "print(\"Predicted label: \", torch.argmax(outputs[:,5:16][sample]).item())"
   ]
  },
  {
   "cell_type": "code",
   "execution_count": null,
   "id": "698b80f3",
   "metadata": {},
   "outputs": [
    {
     "data": {
      "image/png": "[encoded data removed]",
      "text/plain": [
       "<Figure size 640x480 with 1 Axes>"
      ]
     },
     "metadata": {},
     "output_type": "display_data"
    },
    {
     "name": "stdout",
     "output_type": "stream",
     "text": [
      "True label:  8\n",
      "Predicted label:  8\n"
     ]
    }
   ],
   "source": [
    "sample = 60\n",
    "img, label = localization_test[sample]\n",
    "true_box = label[1:5]\n",
    "fig, ax = plt.subplots()\n",
    "img_as_array = np.array(img)  \n",
    "img = img_as_array.squeeze()\n",
    "ax.imshow(img, cmap='gray')   \n",
    "# NOTE: imshow flips the dimensions, so that we need to multiply x with 60 and y with 48\n",
    "true_rect = patches.Rectangle((60*(true_box[0]-true_box[2]/2), 48*(true_box[1]-true_box[3]/2)), 60*true_box[2], 48*true_box[3], linewidth = 2, edgecolor='r', facecolor='none', label = \"True box\")\n",
    "pred = outputs[:,1:5][sample]\n",
    "pred_rect = patches.Rectangle((60*(pred[0]-pred[2]/2), 48*(pred[1]-pred[3]/2)), 60*pred[2], 48*pred[3], linewidth=2, edgecolor='g', facecolor='none', label = \"Predicted box\")\n",
    "ax.add_patch(true_rect)\n",
    "ax.add_patch(pred_rect)\n",
    "plt.legend(loc=\"upper left\")\n",
    "plt.title(f\"Image {sample+1} from the test dataset\")\n",
    "plt.show()\n",
    "print(\"True label: \", label[5].long().item())\n",
    "print(\"Predicted label: \", torch.argmax(outputs[:,5:16][sample]).item())"
   ]
  },
  {
   "cell_type": "markdown",
   "id": "93ab9098",
   "metadata": {},
   "source": [
    "# Task 3 - Object Detection"
   ]
  },
  {
   "cell_type": "markdown",
   "id": "fb081c0f",
   "metadata": {},
   "source": [
    "## Task 3.1.1 - Converting y_true_list to Tensor"
   ]
  },
  {
   "cell_type": "markdown",
   "id": "43a5f872",
   "metadata": {},
   "source": [
    "### Task 3.1.1.1 - Loading the label lists "
   ]
  },
  {
   "cell_type": "code",
   "execution_count": null,
   "id": "5e177a64",
   "metadata": {},
   "outputs": [],
   "source": [
    "list_y_true_train = torch.load('../Project 2/list_y_true_train.pt')\n",
    "list_y_true_val = torch.load('../Project 2/list_y_true_val.pt')\n",
    "list_y_true_test = torch.load('../Project 2/list_y_true_test.pt')"
   ]
  },
  {
   "cell_type": "markdown",
   "id": "2f3e6067",
   "metadata": {},
   "source": [
    "### Task 3.1.1.2 & 3.1.1.3 - Converting the List to a Tensor\n",
    "We start by writing a function that takes a list of labels, defines a zeros tensor of the right dimension, and replaces some of the zero subtensors in the tensor (the correct ones) with the tensors of the list. Then we check if the dimension corresponds to the labels in the provided datasets. Then we check if all the elements of the two correspond. To not get stuck in this task, we did task 3.1.2 before this one, and that is the reason that we have used the provided datasets and not the self-made one in task 3.1.2.    "
   ]
  },
  {
   "cell_type": "code",
   "execution_count": null,
   "id": "a469ee18",
   "metadata": {
    "scrolled": true
   },
   "outputs": [],
   "source": [
    "def convert_to_tensor(list_y_true):\n",
    "    H_out = 2\n",
    "    W_out = 3\n",
    "    shape = (len(list_y_true), H_out, W_out, 6)\n",
    "    y_true_tensor = torch.zeros(shape)\n",
    "\n",
    "    for i in range(0, len(list_y_true)):\n",
    "        for j in range (0, len(list_y_true[i])):\n",
    "            if list_y_true[i][j][2] < 1/H_out:\n",
    "                if list_y_true[i][j][1] < 1/W_out:\n",
    "                    y_true_tensor[i,0,0,] = list_y_true[i][j] * torch.tensor([1, W_out, H_out, W_out, H_out, 1])\n",
    "                elif list_y_true[i][j][1] >= 2/W_out:\n",
    "                    y_true_tensor[i,0,2,] = (torch.tensor([0, -2/W_out, 0, 0, 0, 0]) + list_y_true[i][j]) * torch.tensor([1, W_out, H_out, W_out, H_out, 1])\n",
    "                else:\n",
    "                    y_true_tensor[i,0,1,] = (torch.tensor([0, -1/W_out, 0, 0, 0, 0]) + list_y_true[i][j]) * torch.tensor([1, W_out, H_out, W_out, H_out, 1])\n",
    "            else:\n",
    "                if list_y_true[i][j][1] < 1/W_out:\n",
    "                    y_true_tensor[i,1,0,] = (torch.tensor([0, 0, -1/H_out, 0, 0, 0]) + list_y_true[i][j]) * torch.tensor([1, W_out, H_out, W_out, H_out, 1])\n",
    "                elif list_y_true[i][j][1] >= 2/W_out:\n",
    "                    y_true_tensor[i,1,2,] = (torch.tensor([0, -2/W_out, -1/H_out, 0, 0, 0]) + list_y_true[i][j]) * torch.tensor([1, W_out, H_out, W_out, H_out, 1])\n",
    "                else:\n",
    "                    y_true_tensor[i,1,1,] = (torch.tensor([0, -1/W_out, -1/H_out, 0, 0, 0]) + list_y_true[i][j]) * torch.tensor([1, W_out, H_out, W_out, H_out, 1])\n",
    "\n",
    "    return y_true_tensor"
   ]
  },
  {
   "cell_type": "code",
   "execution_count": null,
   "id": "45e43136",
   "metadata": {},
   "outputs": [],
   "source": [
    "y_true_train = convert_to_tensor(list_y_true_train)\n",
    "y_true_val = convert_to_tensor(list_y_true_val)\n",
    "y_true_test = convert_to_tensor(list_y_true_test)"
   ]
  },
  {
   "cell_type": "code",
   "execution_count": null,
   "id": "a5ae135e",
   "metadata": {},
   "outputs": [
    {
     "name": "stdout",
     "output_type": "stream",
     "text": [
      "torch.Size([26874, 2, 3, 6])\n",
      "torch.Size([2967, 2, 3, 6])\n",
      "torch.Size([4981, 2, 3, 6])\n"
     ]
    }
   ],
   "source": [
    "print(y_true_train.size())\n",
    "print(y_true_val.size())\n",
    "print(y_true_test.size())"
   ]
  },
  {
   "cell_type": "markdown",
   "id": "a1a4d7e4",
   "metadata": {},
   "source": [
    "We can see that the dimensions are okay. For safety, let's check if all the elements in the dataset labels are equal (the detection_xxx.pt datasets are already loaded)."
   ]
  },
  {
   "cell_type": "code",
   "execution_count": null,
   "id": "dc39d5f3",
   "metadata": {},
   "outputs": [
    {
     "name": "stdout",
     "output_type": "stream",
     "text": [
      "All elements in the two tensors are equal, good job\n"
     ]
    }
   ],
   "source": [
    "check_train = torch.where(y_true_train[:]==detection_train[:][1], 1, 0).sum()\n",
    "if check_train == len(detection_train)*2*3*6:\n",
    "    print(\"All elements in the two tensors are equal, good job\")\n",
    "else:\n",
    "    print(\"Not all elements in the two tensors are equal, bad job\")"
   ]
  },
  {
   "cell_type": "code",
   "execution_count": null,
   "id": "261f94d1",
   "metadata": {},
   "outputs": [
    {
     "name": "stdout",
     "output_type": "stream",
     "text": [
      "All elements in the two tensors are equal, good job\n"
     ]
    }
   ],
   "source": [
    "check_val = torch.where(y_true_val[:]==detection_val[:][1], 1, 0).sum()\n",
    "if check_val == len(detection_val)*2*3*6:\n",
    "    print(\"All elements in the two tensors are equal, good job\")\n",
    "else:\n",
    "    print(\"Not all elements in the two tensors are equal, bad job\")"
   ]
  },
  {
   "cell_type": "code",
   "execution_count": null,
   "id": "16af9071",
   "metadata": {},
   "outputs": [
    {
     "name": "stdout",
     "output_type": "stream",
     "text": [
      "All elements in the two tensors are equal, good job\n"
     ]
    }
   ],
   "source": [
    "check_test = torch.where(y_true_test[:]==detection_test[:][1], 1, 0).sum()\n",
    "if check_test == len(detection_test)*2*3*6:\n",
    "    print(\"All elements in the two tensors are equal, good job\")\n",
    "else:\n",
    "    print(\"Not all elements in the two tensors are equal, bad job\")"
   ]
  },
  {
   "cell_type": "markdown",
   "id": "94860a8f",
   "metadata": {},
   "source": [
    "## Task 3.1.2 - Object Detection Task"
   ]
  },
  {
   "cell_type": "markdown",
   "id": "916945a6",
   "metadata": {},
   "source": [
    "### Task 3.1.2.1 - Loading the Datasets"
   ]
  },
  {
   "cell_type": "code",
   "execution_count": null,
   "id": "9abc0d0a",
   "metadata": {},
   "outputs": [],
   "source": [
    "detection_train = torch.load('../Project 2/detection_train.pt')\n",
    "detection_val = torch.load('../Project 2/detection_val.pt')\n",
    "detection_test = torch.load('../Project 2/detection_test.pt')"
   ]
  },
  {
   "cell_type": "markdown",
   "id": "0a10b009",
   "metadata": {},
   "source": [
    "#### Some information about the datasets"
   ]
  },
  {
   "cell_type": "code",
   "execution_count": null,
   "id": "28b13d2b",
   "metadata": {},
   "outputs": [
    {
     "name": "stdout",
     "output_type": "stream",
     "text": [
      "26874\n",
      "2967\n",
      "4981\n"
     ]
    }
   ],
   "source": [
    "print(len(detection_train))\n",
    "print(len(detection_val))\n",
    "print(len(detection_test))"
   ]
  },
  {
   "cell_type": "code",
   "execution_count": null,
   "id": "0cf0d2f7",
   "metadata": {},
   "outputs": [
    {
     "name": "stdout",
     "output_type": "stream",
     "text": [
      "Shape of datasets' inputs:  torch.Size([1, 48, 60])\n",
      "Shape of datasets' labels:  torch.Size([2, 3, 6])\n"
     ]
    }
   ],
   "source": [
    "print(\"Shape of datasets' inputs: \", detection_train[:][0].size()[1:])\n",
    "print(\"Shape of datasets' labels: \", detection_train[:][1].size()[1:])"
   ]
  },
  {
   "cell_type": "code",
   "execution_count": null,
   "id": "085c3159",
   "metadata": {},
   "outputs": [
    {
     "name": "stdout",
     "output_type": "stream",
     "text": [
      "Number of instances of label 0:  8649\n",
      "Number of instances of label 1:  18225\n"
     ]
    }
   ],
   "source": [
    "labels = detection_train[:][1]\n",
    "print(\"Number of instances of label 0: \", len(detection_train)-labels[:,:,:,5].sum().long().item())\n",
    "print(\"Number of instances of label 1: \", labels[:,:,:,5].sum().long().item())"
   ]
  },
  {
   "cell_type": "code",
   "execution_count": null,
   "id": "30ca01b2",
   "metadata": {},
   "outputs": [
    {
     "name": "stdout",
     "output_type": "stream",
     "text": [
      "Label 19 from the training dataset: \n",
      "tensor([[[1.0000, 0.5500, 0.3750, 0.8000, 0.7500, 0.0000],\n",
      "         [0.0000, 0.0000, 0.0000, 0.0000, 0.0000, 0.0000],\n",
      "         [1.0000, 0.2000, 0.8125, 0.1000, 0.5417, 1.0000]],\n",
      "\n",
      "        [[0.0000, 0.0000, 0.0000, 0.0000, 0.0000, 0.0000],\n",
      "         [0.0000, 0.0000, 0.0000, 0.0000, 0.0000, 0.0000],\n",
      "         [0.0000, 0.0000, 0.0000, 0.0000, 0.0000, 0.0000]]])\n"
     ]
    },
    {
     "data": {
      "image/png": "[encoded data removed]",
      "text/plain": [
       "<Figure size 640x480 with 1 Axes>"
      ]
     },
     "metadata": {},
     "output_type": "display_data"
    }
   ],
   "source": [
    "i = 18\n",
    "img, label = detection_train[i]\n",
    "fig, ax = plt.subplots()\n",
    "img_as_array = np.array(img)  \n",
    "img = img_as_array.squeeze()\n",
    "ax.imshow(img, cmap='gray')\n",
    "plt.title(f\"Image {i+1} from the training dataset\")\n",
    "plt.plot()\n",
    "print(f\"Label {i+1} from the training dataset: \")\n",
    "print(label)\n",
    "#NOTE: imshow flips the dimensions x and y"
   ]
  },
  {
   "cell_type": "markdown",
   "id": "0c1217cb",
   "metadata": {},
   "source": [
    "#### Normalizing the data"
   ]
  },
  {
   "cell_type": "code",
   "execution_count": null,
   "id": "9a9f074a",
   "metadata": {},
   "outputs": [
    {
     "name": "stdout",
     "output_type": "stream",
     "text": [
      "Data is normalized\n"
     ]
    }
   ],
   "source": [
    "imgs = torch.stack([img for img, _ in localization_train])\n",
    "\n",
    "normalizer = transforms.Normalize(\n",
    "                imgs.mean(dim=(0, 2, 3)), \n",
    "                imgs.std(dim=(0, 2, 3))\n",
    "            )\n",
    "\n",
    "detection_train = [(normalizer(img), label) for img, label in detection_train]\n",
    "detection_val = [(normalizer(img), label) for img, label in detection_val]\n",
    "detection_test = [(normalizer(img), label) for img, label in detection_test]\n",
    "print('Data is normalized')"
   ]
  },
  {
   "cell_type": "markdown",
   "id": "738a4e1f",
   "metadata": {},
   "source": [
    "### Task 3.1.2.2 - Model Design\n",
    "We start by redefining the loss function and training loop. Then we implement a model and train it. "
   ]
  },
  {
   "cell_type": "code",
   "execution_count": null,
   "id": "32b89232",
   "metadata": {},
   "outputs": [],
   "source": [
    "def CombinedLoss(outputs, labels):\n",
    "    \n",
    "    bce_loss = nn.BCEWithLogitsLoss()\n",
    "    mse_loss = nn.MSELoss()\n",
    "    ce_loss = nn.CrossEntropyLoss()\n",
    "    total_loss = 0\n",
    "                    \n",
    "    for l in range(0,labels.size()[0]-1):\n",
    "        for w in range(0,2):\n",
    "            for h in range(0,3):\n",
    "                if labels[l, w, h, 0] == 1.0:\n",
    "                    total_loss += bce_loss(outputs[l, w, h, 0], labels[l, w, h, 0])\n",
    "                    total_loss += mse_loss(outputs[l, w, h, 1:5], labels[l, w, h, 1:5]) \n",
    "                    total_loss += ce_loss(outputs[l, w, h, 5:7], labels[l, w, h, 5].long())\n",
    "                else: \n",
    "                    total_loss += bce_loss(outputs[l, w, h, 0], labels[l, w, h, 0])\n",
    "                                            \n",
    "    return total_loss"
   ]
  },
  {
   "cell_type": "code",
   "execution_count": null,
   "id": "46a19689",
   "metadata": {},
   "outputs": [],
   "source": [
    "def train(num_epochs, data_loader, model, optimizer, loss_fn):\n",
    "    model.train()\n",
    "    n_batch = len(data_loader)\n",
    "    losses_train = []\n",
    "    optimizer.zero_grad(set_to_none=True)\n",
    "    \n",
    "    for epoch in range(1, num_epochs+1):\n",
    "    \n",
    "        loss_train = 0\n",
    "\n",
    "        for images, labels in data_loader:\n",
    "            outputs = model(images)\n",
    "            loss = loss_fn(outputs, labels)\n",
    "            loss.backward()\n",
    "            optimizer.step()\n",
    "            optimizer.zero_grad()\n",
    "            loss_train += loss.item()\n",
    "\n",
    "        losses_train.append(loss_train / n_batch*2*3)\n",
    "\n",
    "        print('{}  |  Epoch {}  |  Training loss {:.3f}'.format(\n",
    "            datetime.now().time(), epoch, loss_train / n_batch*2*3))\n",
    "        \n",
    "    return losses_train"
   ]
  },
  {
   "cell_type": "code",
   "execution_count": null,
   "id": "248d55e8",
   "metadata": {},
   "outputs": [],
   "source": [
    "class model_det(nn.Module):\n",
    "    def __init__(self):\n",
    "        super(model_det, self).__init__()\n",
    "        self.conv1 = nn.Conv2d(1, 16, kernel_size=3, stride=1, padding=1)\n",
    "        self.conv2 = nn.Conv2d(16, 32, kernel_size=3, stride=1, padding=1)\n",
    "        self.conv3 = nn.Conv2d(32, 64, kernel_size=(3, 5), stride=(6, 5), padding=(0, 0))\n",
    "        self.conv4 = nn.Conv2d(64, 7, kernel_size=1) \n",
    "\n",
    "        self.relu = nn.ReLU()\n",
    "        \n",
    "        self.pool1 = nn.MaxPool2d(kernel_size=2, stride=2) \n",
    "\n",
    "    def forward(self, x):\n",
    "        x = self.pool(self.relu(self.conv1(x)))\n",
    "        x = self.pool(self.relu(self.conv2(x)))\n",
    "        x = self.relu(self.conv3(x))\n",
    "        x = self.conv4(x)  \n",
    "        return x.permute(0, 2, 3, 1)  \n"
   ]
  },
  {
   "cell_type": "code",
   "execution_count": null,
   "id": "52c9f53a",
   "metadata": {},
   "outputs": [
    {
     "name": "stdout",
     "output_type": "stream",
     "text": [
      "11:16:37.024700  |  Epoch 1  |  Training loss 173.989\n",
      "11:18:34.961818  |  Epoch 2  |  Training loss 96.048\n",
      "11:20:35.543356  |  Epoch 3  |  Training loss 82.121\n",
      "11:22:34.724510  |  Epoch 4  |  Training loss 74.731\n",
      "11:24:33.801509  |  Epoch 5  |  Training loss 70.196\n",
      "11:26:45.352492  |  Epoch 6  |  Training loss 67.059\n",
      "11:28:51.441008  |  Epoch 7  |  Training loss 64.843\n",
      "11:30:55.506293  |  Epoch 8  |  Training loss 63.078\n",
      "11:33:04.643148  |  Epoch 9  |  Training loss 61.874\n",
      "11:35:10.971391  |  Epoch 10  |  Training loss 60.606\n",
      "11:37:20.200548  |  Epoch 11  |  Training loss 59.506\n",
      "11:39:21.230828  |  Epoch 12  |  Training loss 58.653\n",
      "11:41:10.973423  |  Epoch 13  |  Training loss 58.060\n",
      "11:43:10.485731  |  Epoch 14  |  Training loss 57.122\n",
      "11:45:09.691540  |  Epoch 15  |  Training loss 56.451\n",
      "11:47:02.821587  |  Epoch 16  |  Training loss 56.001\n",
      "11:48:52.902977  |  Epoch 17  |  Training loss 55.417\n",
      "11:50:40.792387  |  Epoch 18  |  Training loss 54.726\n",
      "11:52:23.350610  |  Epoch 19  |  Training loss 54.427\n",
      "11:54:21.672263  |  Epoch 20  |  Training loss 53.997\n",
      "11:56:19.071063  |  Epoch 21  |  Training loss 53.422\n",
      "\n"
     ]
    }
   ],
   "source": [
    "torch.manual_seed(13)\n",
    "train_loader = torch.utils.data.DataLoader(detection_train, batch_size=64, shuffle=True) \n",
    "model_det = model_det()\n",
    "optimizer = optim.SGD(model_det.parameters(), lr=0.001)\n",
    "\n",
    "train(\n",
    "    num_epochs = 21,\n",
    "    optimizer = optimizer,\n",
    "    model = model_det,\n",
    "    loss_fn = CombinedLoss,\n",
    "    data_loader = train_loader,\n",
    ")\n",
    "print('')"
   ]
  },
  {
   "cell_type": "markdown",
   "id": "8807dfc0",
   "metadata": {},
   "source": [
    "### Task 3.1.2.3 - Training Several Models"
   ]
  },
  {
   "cell_type": "code",
   "execution_count": null,
   "id": "49126e6e",
   "metadata": {},
   "outputs": [],
   "source": [
    "class model_det2(nn.Module):\n",
    "    def __init__(self):\n",
    "        super(model_det2, self).__init__()\n",
    "        self.conv1 = nn.Conv2d(1, 32, kernel_size=5, stride=1, padding=2)        \n",
    "        self.conv2 = nn.Conv2d(32, 64, kernel_size=5, stride=1, padding=2)\n",
    "        self.conv3 = nn.Conv2d(64, 128, kernel_size=3, stride=1, padding=1)\n",
    "        self.conv4 = nn.Conv2d(128, 256, kernel_size=3, stride=1, padding=1)\n",
    "        self.conv5 = nn.Conv2d(256, 7, kernel_size=1) \n",
    "        \n",
    "        self.relu = nn.ReLU()\n",
    "        self.pool1 = nn.MaxPool2d(kernel_size=2, stride=2) \n",
    "        self.pool2 = nn.MaxPool2d(kernel_size=(3, 2), stride=(3, 2))  \n",
    "\n",
    "    def forward(self, x):\n",
    "        x = self.pool1(self.relu(self.conv1(x)))\n",
    "        x = self.pool1(self.relu(self.conv2(x)))\n",
    "        x = self.pool1(self.relu(self.conv3(x)))\n",
    "        x = self.pool2(self.relu(self.conv4(x)))\n",
    "        x = self.conv5(x)  \n",
    "        return x.permute(0, 2, 3, 1)  \n"
   ]
  },
  {
   "cell_type": "code",
   "execution_count": null,
   "id": "2c53860d",
   "metadata": {},
   "outputs": [
    {
     "name": "stdout",
     "output_type": "stream",
     "text": [
      "17:24:49.405064  |  Epoch 1  |  Training loss 127.399\n",
      "17:29:44.767536  |  Epoch 2  |  Training loss 37.555\n",
      "17:34:53.471335  |  Epoch 3  |  Training loss 24.276\n",
      "17:39:57.024432  |  Epoch 4  |  Training loss 20.625\n",
      "17:44:41.103012  |  Epoch 5  |  Training loss 18.196\n",
      "17:48:44.935509  |  Epoch 6  |  Training loss 16.949\n",
      "17:53:05.874162  |  Epoch 7  |  Training loss 15.529\n",
      "17:57:19.096192  |  Epoch 8  |  Training loss 14.641\n",
      "18:01:29.021227  |  Epoch 9  |  Training loss 13.597\n",
      "18:05:41.209338  |  Epoch 10  |  Training loss 12.918\n",
      "18:09:57.326294  |  Epoch 11  |  Training loss 11.964\n",
      "18:26:36.800390  |  Epoch 12  |  Training loss 11.218\n",
      "18:31:20.742793  |  Epoch 13  |  Training loss 10.669\n",
      "18:36:00.388530  |  Epoch 14  |  Training loss 9.954\n",
      "18:40:52.378110  |  Epoch 15  |  Training loss 9.640\n",
      "21:59:57.036808  |  Epoch 16  |  Training loss 8.590\n",
      "22:04:55.621149  |  Epoch 17  |  Training loss 8.104\n",
      "22:09:50.687994  |  Epoch 18  |  Training loss 7.820\n",
      "22:14:32.182602  |  Epoch 19  |  Training loss 7.001\n",
      "22:19:05.244460  |  Epoch 20  |  Training loss 6.443\n",
      "22:23:58.911328  |  Epoch 21  |  Training loss 5.719\n",
      "\n"
     ]
    }
   ],
   "source": [
    "torch.manual_seed(13)\n",
    "train_loader = torch.utils.data.DataLoader(detection_train, batch_size=64, shuffle=True) \n",
    "model_det2 = model_det2()\n",
    "optimizer = optim.SGD(model_det2.parameters(), lr=0.001)\n",
    "\n",
    "train(\n",
    "    num_epochs = 21,\n",
    "    optimizer = optimizer,\n",
    "    model = model_det2,\n",
    "    loss_fn = CombinedLoss,\n",
    "    data_loader = train_loader,\n",
    ")\n",
    "print('')"
   ]
  },
  {
   "cell_type": "markdown",
   "id": "c67aedb3",
   "metadata": {},
   "source": [
    "### Task 3.1.2.4 - Model Selection"
   ]
  },
  {
   "cell_type": "code",
   "execution_count": null,
   "id": "92d291cd",
   "metadata": {},
   "outputs": [],
   "source": [
    "def compute_accuracy(model, data_loader):\n",
    "    model.eval()\n",
    "    total_iou = 0\n",
    "    correct_classifications = 0\n",
    "    no_of_objects = 0\n",
    "    total = 0\n",
    "\n",
    "    with torch.no_grad():\n",
    "        for imgs, labels in data_loader:\n",
    "            \n",
    "            outputs = model(imgs)\n",
    "            batch_size = labels.size()[0]\n",
    "            \n",
    "            for l in range(0,batch_size-1):\n",
    "                for h in range(0,2):\n",
    "                    for w in range(0,3): \n",
    "                        if labels[l, h, w, 0] == 1.0:\n",
    "                            if outputs[l, h, w, 0] > 0:\n",
    "                                total_iou += bbox_iou(outputs[l, h, w, 1:5], labels[l, h, w, 1:5])\n",
    "                                if torch.argmax(outputs[l, h, w, 5:7]) == labels[l, h, w, 5]:\n",
    "                                    correct_classifications += 1\n",
    "                        else:\n",
    "                            total_iou += 0\n",
    "                            if outputs[l, h, w, 0] < 0:\n",
    "                                correct_classifications += 1\n",
    "                \n",
    "                no_of_objects += labels[l][:,:,0].sum()\n",
    "\n",
    "            total += batch_size\n",
    "\n",
    "    acc =  correct_classifications / (2*3*total)\n",
    "    avg_iou = total_iou / no_of_objects\n",
    "    \n",
    "    return avg_iou, acc"
   ]
  },
  {
   "cell_type": "code",
   "execution_count": null,
   "id": "d57d0032",
   "metadata": {},
   "outputs": [
    {
     "name": "stdout",
     "output_type": "stream",
     "text": [
      "-------\n",
      "MODEL 1\n",
      "-------\n",
      "Intersection over Union:  0.511\n",
      "Accuracy:  0.935\n",
      "Average of accuracy and IoU:  0.723\n"
     ]
    }
   ],
   "source": [
    "print(\"-------\")\n",
    "print(\"MODEL 1\")\n",
    "print(\"-------\")\n",
    "\n",
    "val_loader = torch.utils.data.DataLoader(detection_val, batch_size=64, shuffle=False)\n",
    "ioutest, acctest = compute_accuracy(model_det, val_loader)\n",
    "\n",
    "print(\"Intersection over Union: \", round(float(ioutest), 3))\n",
    "print(\"Accuracy: \", round(float(acctest), 3))\n",
    "print(\"Average of accuracy and IoU: \", round(float(0.5*ioutest+0.5*acctest), 3))"
   ]
  },
  {
   "cell_type": "code",
   "execution_count": null,
   "id": "ec9fd43c",
   "metadata": {},
   "outputs": [
    {
     "name": "stdout",
     "output_type": "stream",
     "text": [
      "-------\n",
      "MODEL 2\n",
      "-------\n",
      "Intersection over Union:  0.659\n",
      "Accuracy:  0.968\n",
      "Average of accuracy and IoU:  0.814\n"
     ]
    }
   ],
   "source": [
    "print(\"-------\")\n",
    "print(\"MODEL 2\")\n",
    "print(\"-------\")\n",
    "\n",
    "val_loader = torch.utils.data.DataLoader(detection_val, batch_size=64, shuffle=False)\n",
    "ioutest, acctest = compute_accuracy(model_det2, val_loader)\n",
    "\n",
    "print(\"Intersection over Union: \", round(float(ioutest), 3))\n",
    "print(\"Accuracy: \", round(float(acctest), 3))\n",
    "print(\"Average of accuracy and IoU: \", round(float(0.5*ioutest+0.5*acctest), 3))"
   ]
  },
  {
   "cell_type": "markdown",
   "id": "c1694daf",
   "metadata": {},
   "source": [
    "### Task 3.2.1.5 - Model Evaluation\n",
    "Model 2 performed the best on the validation set, and thus we chose this model."
   ]
  },
  {
   "cell_type": "code",
   "execution_count": null,
   "id": "6240aaa9",
   "metadata": {},
   "outputs": [
    {
     "name": "stdout",
     "output_type": "stream",
     "text": [
      "-------\n",
      "MODEL 2\n",
      "-------\n",
      "Intersection over Union:  0.655\n",
      "Accuracy:  0.968\n",
      "Average of accuracy and IoU:  0.811\n"
     ]
    }
   ],
   "source": [
    "print(\"-------\")\n",
    "print(\"MODEL 2\")\n",
    "print(\"-------\")\n",
    "\n",
    "test_loader = torch.utils.data.DataLoader(detection_test, batch_size=64, shuffle=False)\n",
    "ioutest, acctest = compute_accuracy(model_det2, test_loader)\n",
    "\n",
    "print(\"Intersection over Union: \", round(float(ioutest), 3))\n",
    "print(\"Accuracy: \", round(float(acctest), 3))\n",
    "print(\"Average of accuracy and IoU: \", round(float(0.5*ioutest+0.5*acctest), 3))"
   ]
  },
  {
   "cell_type": "markdown",
   "id": "0023b014",
   "metadata": {},
   "source": [
    "### Task 3.2.1.6 - Plotting Some Images and Boxes\n",
    "We start by predicting a single batch of the test data and store the output. Then we plot four images with true and predicted bounding boxes, as well as printing the true and predicted labels."
   ]
  },
  {
   "cell_type": "code",
   "execution_count": null,
   "id": "dfa9a774",
   "metadata": {},
   "outputs": [],
   "source": [
    "loader = torch.utils.data.DataLoader(detection_test, batch_size=64, shuffle=False)\n",
    "with torch.no_grad():\n",
    "    for imgs, labels in loader:\n",
    "        model_det2.eval()\n",
    "        outputs = model_det2(imgs)"
   ]
  },
  {
   "cell_type": "code",
   "execution_count": null,
   "id": "23e53661",
   "metadata": {},
   "outputs": [
    {
     "name": "stdout",
     "output_type": "stream",
     "text": [
      "True label:  0\n",
      "Predicted label:  1\n",
      "True label:  1\n",
      "Predicted label:  0\n",
      "True label:  0\n",
      "Predicted label:  1\n"
     ]
    },
    {
     "data": {
      "image/png": "[encoded data removed]",
      "text/plain": [
       "<Figure size 640x480 with 1 Axes>"
      ]
     },
     "metadata": {},
     "output_type": "display_data"
    }
   ],
   "source": [
    "sample = 5\n",
    "img, label = detection_test[sample]\n",
    "pred = outputs[sample]\n",
    "\n",
    "fig, ax = plt.subplots()\n",
    "img_as_array = np.array(img)  \n",
    "img = img_as_array.squeeze()\n",
    "ax.imshow(img, cmap='gray')\n",
    "\n",
    "for h in range(0,2):\n",
    "    for w in range(0,3): \n",
    "        if label[h, w, 0] == 1.0:  \n",
    "            true_rect = torch.tensor([20*w, 24*h, 0, 0]) + label[h, w, 1:5] * torch.tensor([20, 24, 20, 24])\n",
    "            true_rect =  patches.Rectangle((true_rect[0]-true_rect[2]/2, true_rect[1]-true_rect[3]/2), true_rect[2], true_rect[3], linewidth = 2, edgecolor='r', facecolor='none', label = \"True box\")\n",
    "            ax.add_patch(true_rect)\n",
    "            \n",
    "            pred_rect = torch.tensor([20*w, 24*h, 0, 0]) + pred[h, w, 1:5] * torch.tensor([20, 24, 20, 24])\n",
    "            pred_rect =  patches.Rectangle((pred_rect[0]-pred_rect[2]/2, pred_rect[1]-pred_rect[3]/2), pred_rect[2], pred_rect[3], linewidth = 2, edgecolor='g', facecolor='none', label = \"Predicted box\")\n",
    "            ax.add_patch(pred_rect)\n",
    "            \n",
    "            print(f\"True label: \", label[h, w, 5].long().item())\n",
    "            print(f\"Predicted label: \", torch.argmax(pred[h, w, 5:7]).item())\n",
    "\n",
    "plt.legend(loc=\"upper left\")\n",
    "plt.title(f\"Image {len(detection_test)-outputs.size()[0]+sample+1} from the test dataset\")\n",
    "plt.show()"
   ]
  },
  {
   "cell_type": "code",
   "execution_count": null,
   "id": "6d9588bc",
   "metadata": {},
   "outputs": [
    {
     "name": "stdout",
     "output_type": "stream",
     "text": [
      "True label:  1\n",
      "Predicted label:  1\n",
      "True label:  1\n",
      "Predicted label:  0\n"
     ]
    },
    {
     "data": {
      "image/png": "[encoded data removed]",
      "text/plain": [
       "<Figure size 640x480 with 1 Axes>"
      ]
     },
     "metadata": {},
     "output_type": "display_data"
    }
   ],
   "source": [
    "sample = 23\n",
    "img, label = detection_test[sample]\n",
    "pred = outputs[sample]\n",
    "\n",
    "fig, ax = plt.subplots()\n",
    "img_as_array = np.array(img)  \n",
    "img = img_as_array.squeeze()\n",
    "ax.imshow(img, cmap='gray')\n",
    "\n",
    "for h in range(0,2):\n",
    "    for w in range(0,3): \n",
    "        if label[h, w, 0] == 1.0:  \n",
    "            true_rect = torch.tensor([20*w, 24*h, 0, 0]) + label[h, w, 1:5] * torch.tensor([20, 24, 20, 24])\n",
    "            true_rect =  patches.Rectangle((true_rect[0]-true_rect[2]/2, true_rect[1]-true_rect[3]/2), true_rect[2], true_rect[3], linewidth = 2, edgecolor='r', facecolor='none', label = \"True box\")\n",
    "            ax.add_patch(true_rect)\n",
    "            \n",
    "            pred_rect = torch.tensor([20*w, 24*h, 0, 0]) + pred[h, w, 1:5] * torch.tensor([20, 24, 20, 24])\n",
    "            pred_rect =  patches.Rectangle((pred_rect[0]-pred_rect[2]/2, pred_rect[1]-pred_rect[3]/2), pred_rect[2], pred_rect[3], linewidth = 2, edgecolor='g', facecolor='none', label = \"Predicted box\")\n",
    "            ax.add_patch(pred_rect)\n",
    "            \n",
    "            print(f\"True label: \", label[h, w, 5].long().item())\n",
    "            print(f\"Predicted label: \", torch.argmax(pred[h, w, 5:7]).item())\n",
    "\n",
    "plt.legend(loc=\"upper left\")\n",
    "plt.title(f\"Image {len(detection_test)-outputs.size()[0]+sample+1} from the test dataset\")\n",
    "plt.show()"
   ]
  },
  {
   "cell_type": "code",
   "execution_count": null,
   "id": "10979ad3",
   "metadata": {},
   "outputs": [
    {
     "name": "stdout",
     "output_type": "stream",
     "text": [
      "True label:  0\n",
      "Predicted label:  1\n",
      "True label:  1\n",
      "Predicted label:  1\n"
     ]
    },
    {
     "data": {
      "image/png": "[encoded data removed]",
      "text/plain": [
       "<Figure size 640x480 with 1 Axes>"
      ]
     },
     "metadata": {},
     "output_type": "display_data"
    }
   ],
   "source": [
    "sample = 7\n",
    "img, label = detection_test[sample]\n",
    "pred = outputs[sample]\n",
    "\n",
    "fig, ax = plt.subplots()\n",
    "img_as_array = np.array(img)  \n",
    "img = img_as_array.squeeze()\n",
    "ax.imshow(img, cmap='gray')\n",
    "\n",
    "for h in range(0,2):\n",
    "    for w in range(0,3): \n",
    "        if label[h, w, 0] == 1.0:  \n",
    "            true_rect = torch.tensor([20*w, 24*h, 0, 0]) + label[h, w, 1:5] * torch.tensor([20, 24, 20, 24])\n",
    "            true_rect =  patches.Rectangle((true_rect[0]-true_rect[2]/2, true_rect[1]-true_rect[3]/2), true_rect[2], true_rect[3], linewidth = 2, edgecolor='r', facecolor='none', label = \"True box\")\n",
    "            ax.add_patch(true_rect)\n",
    "            \n",
    "            pred_rect = torch.tensor([20*w, 24*h, 0, 0]) + pred[h, w, 1:5] * torch.tensor([20, 24, 20, 24])\n",
    "            pred_rect =  patches.Rectangle((pred_rect[0]-pred_rect[2]/2, pred_rect[1]-pred_rect[3]/2), pred_rect[2], pred_rect[3], linewidth = 2, edgecolor='g', facecolor='none', label = \"Predicted box\")\n",
    "            ax.add_patch(pred_rect)\n",
    "            \n",
    "            print(f\"True label: \", label[h, w, 5].long().item())\n",
    "            print(f\"Predicted label: \", torch.argmax(pred[h, w, 5:7]).item())\n",
    "\n",
    "plt.legend(loc=\"upper left\")\n",
    "plt.title(f\"Image {len(detection_test)-outputs.size()[0]+sample+1} from the test dataset\")\n",
    "plt.show()"
   ]
  },
  {
   "cell_type": "code",
   "execution_count": null,
   "id": "100d1ab3",
   "metadata": {},
   "outputs": [
    {
     "name": "stdout",
     "output_type": "stream",
     "text": [
      "True label:  1\n",
      "Predicted label:  0\n"
     ]
    },
    {
     "data": {
      "image/png": "[encoded data removed]",
      "text/plain": [
       "<Figure size 640x480 with 1 Axes>"
      ]
     },
     "metadata": {},
     "output_type": "display_data"
    }
   ],
   "source": [
    "sample = 25\n",
    "img, label = detection_test[sample]\n",
    "pred = outputs[sample]\n",
    "\n",
    "fig, ax = plt.subplots()\n",
    "img_as_array = np.array(img)  \n",
    "img = img_as_array.squeeze()\n",
    "ax.imshow(img, cmap='gray')\n",
    "\n",
    "for h in range(0,2):\n",
    "    for w in range(0,3): \n",
    "        if label[h, w, 0] == 1.0:  \n",
    "            true_rect = torch.tensor([20*w, 24*h, 0, 0]) + label[h, w, 1:5] * torch.tensor([20, 24, 20, 24])\n",
    "            true_rect =  patches.Rectangle((true_rect[0]-true_rect[2]/2, true_rect[1]-true_rect[3]/2), true_rect[2], true_rect[3], linewidth = 2, edgecolor='r', facecolor='none', label = \"True box\")\n",
    "            ax.add_patch(true_rect)\n",
    "            \n",
    "            pred_rect = torch.tensor([20*w, 24*h, 0, 0]) + pred[h, w, 1:5] * torch.tensor([20, 24, 20, 24])\n",
    "            pred_rect =  patches.Rectangle((pred_rect[0]-pred_rect[2]/2, pred_rect[1]-pred_rect[3]/2), pred_rect[2], pred_rect[3], linewidth = 2, edgecolor='g', facecolor='none', label = \"Predicted box\")\n",
    "            ax.add_patch(pred_rect)\n",
    "            \n",
    "            print(f\"True label: \", label[h, w, 5].long().item())\n",
    "            print(f\"Predicted label: \", torch.argmax(pred[h, w, 5:7]).item())\n",
    "\n",
    "plt.legend(loc=\"upper left\")\n",
    "plt.title(f\"Image {len(detection_test)-outputs.size()[0]+sample+1} from the test dataset\")\n",
    "plt.show()"
   ]
  },
  {
   "cell_type": "code",
   "execution_count": null,
   "id": "3e7d8e59",
   "metadata": {},
   "outputs": [
    {
     "name": "stdout",
     "output_type": "stream",
     "text": [
      "True label:  0\n",
      "Predicted label:  1\n",
      "True label:  1\n",
      "Predicted label:  1\n"
     ]
    },
    {
     "data": {
      "image/png": "[encoded data removed]",
      "text/plain": [
       "<Figure size 640x480 with 1 Axes>"
      ]
     },
     "metadata": {},
     "output_type": "display_data"
    }
   ],
   "source": [
    "sample = 14\n",
    "img, label = detection_test[sample]\n",
    "pred = outputs[sample]\n",
    "\n",
    "fig, ax = plt.subplots()\n",
    "img_as_array = np.array(img)  \n",
    "img = img_as_array.squeeze()\n",
    "ax.imshow(img, cmap='gray')\n",
    "\n",
    "for h in range(0,2):\n",
    "    for w in range(0,3): \n",
    "        if label[h, w, 0] == 1.0:  \n",
    "            true_rect = torch.tensor([20*w, 24*h, 0, 0]) + label[h, w, 1:5] * torch.tensor([20, 24, 20, 24])\n",
    "            true_rect =  patches.Rectangle((true_rect[0]-true_rect[2]/2, true_rect[1]-true_rect[3]/2), true_rect[2], true_rect[3], linewidth = 2, edgecolor='r', facecolor='none', label = \"True box\")\n",
    "            ax.add_patch(true_rect)\n",
    "            \n",
    "            pred_rect = torch.tensor([20*w, 24*h, 0, 0]) + pred[h, w, 1:5] * torch.tensor([20, 24, 20, 24])\n",
    "            pred_rect =  patches.Rectangle((pred_rect[0]-pred_rect[2]/2, pred_rect[1]-pred_rect[3]/2), pred_rect[2], pred_rect[3], linewidth = 2, edgecolor='g', facecolor='none', label = \"Predicted box\")\n",
    "            ax.add_patch(pred_rect)\n",
    "            \n",
    "            print(f\"True label: \", label[h, w, 5].long().item())\n",
    "            print(f\"Predicted label: \", torch.argmax(pred[h, w, 5:7]).item())\n",
    "\n",
    "plt.legend(loc=\"upper right\")\n",
    "plt.title(f\"Image {len(detection_test)-outputs.size()[0]+sample+1} from the test dataset\")\n",
    "plt.show()"
   ]
  }
 ],
 "metadata": {
  "kernelspec": {
   "display_name": "Python 3 (ipykernel)",
   "language": "python",
   "name": "python3"
  },
  "language_info": {
   "codemirror_mode": {
    "name": "ipython",
    "version": 3
   },
   "file_extension": ".py",
   "mimetype": "text/x-python",
   "name": "python",
   "nbconvert_exporter": "python",
   "pygments_lexer": "ipython3",
   "version": "3.10.13"
  }
 },
 "nbformat": 4,
 "nbformat_minor": 5
}
