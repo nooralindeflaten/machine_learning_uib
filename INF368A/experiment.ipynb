{
 "cells": [
  {
   "cell_type": "code",
   "execution_count": 1,
   "metadata": {},
   "outputs": [],
   "source": [
    "import numpy as np\n",
    "import matplotlib.pyplot as plt\n",
    "from agent import Agent\n",
    "from bandit import Bandits_one\n",
    "from bandit import Bandits_two\n",
    "import algorithms"
   ]
  },
  {
   "cell_type": "code",
   "execution_count": 2,
   "metadata": {},
   "outputs": [],
   "source": [
    "num_episodes = 1000\n",
    "num_runs = 20\n",
    "epsilon = 0.1\n",
    "\n",
    "def run_exp(algorithm, args, num_episodes, num_runs):\n",
    "    cumulative_rewards = np.zeros(num_episodes)\n",
    "    cumulative_regrets = np.zeros(num_episodes)\n",
    "\n",
    "    for _ in range(num_runs):\n",
    "        #bandit_env = Bandits_one()\n",
    "        bandit_env = Bandits_two()\n",
    "        optimal_action = bandit_env.get_optimal_action()\n",
    "        \n",
    "        # Make a copy of args to avoid modifying the original dictionary\n",
    "        current_args = args.copy()\n",
    "\n",
    "        agent = Agent(k=bandit_env.k, algorithm=algorithm, args=current_args)\n",
    "\n",
    "        total_reward = 0\n",
    "        for episode in range(num_episodes):\n",
    "            # Update the 'episode' argument for decaying epsilon-greedy\n",
    "            current_args['episode'] = episode\n",
    "\n",
    "            action = agent.select_action()\n",
    "            observation, reward, terminated, turncated, information = bandit_env.step(action)\n",
    "            agent.update(action, reward)\n",
    "\n",
    "            total_reward += reward\n",
    "            cumulative_rewards[episode] += total_reward\n",
    "            regret = bandit_env.means[optimal_action] - reward\n",
    "            cumulative_regrets[episode] += regret\n",
    "    average_cumulative_rewards = cumulative_rewards / num_runs\n",
    "    average_cumulative_regrets = cumulative_regrets / num_runs\n",
    "\n",
    "    return average_cumulative_rewards, average_cumulative_regrets\n"
   ]
  },
  {
   "cell_type": "code",
   "execution_count": 2,
   "metadata": {},
   "outputs": [
    {
     "ename": "NameError",
     "evalue": "name 'run_exp' is not defined",
     "output_type": "error",
     "traceback": [
      "\u001b[0;31m---------------------------------------------------------------------------\u001b[0m",
      "\u001b[0;31mNameError\u001b[0m                                 Traceback (most recent call last)",
      "Cell \u001b[0;32mIn[2], line 1\u001b[0m\n\u001b[0;32m----> 1\u001b[0m c1_rewards, c1_regrets \u001b[38;5;241m=\u001b[39m \u001b[43mrun_exp\u001b[49m(algorithms\u001b[38;5;241m.\u001b[39mepsilon_greedy, {\u001b[38;5;124m'\u001b[39m\u001b[38;5;124mepsilon\u001b[39m\u001b[38;5;124m'\u001b[39m: epsilon}, num_episodes, num_runs)\n\u001b[1;32m      2\u001b[0m c2_rewards, c2_regrets \u001b[38;5;241m=\u001b[39m run_exp(algorithms\u001b[38;5;241m.\u001b[39mdecaying_epsilon_greedy, {\u001b[38;5;124m'\u001b[39m\u001b[38;5;124mepisodes\u001b[39m\u001b[38;5;124m'\u001b[39m: num_episodes, \u001b[38;5;124m'\u001b[39m\u001b[38;5;124minit_epsilon\u001b[39m\u001b[38;5;124m'\u001b[39m: epsilon}, num_episodes, num_runs)\n\u001b[1;32m      3\u001b[0m c3_rewards, c3_regrets \u001b[38;5;241m=\u001b[39m run_exp(algorithms\u001b[38;5;241m.\u001b[39mucb,{\u001b[38;5;124m'\u001b[39m\u001b[38;5;124mc\u001b[39m\u001b[38;5;124m'\u001b[39m:\u001b[38;5;241m2\u001b[39m},num_episodes,num_runs)\n",
      "\u001b[0;31mNameError\u001b[0m: name 'run_exp' is not defined"
     ]
    }
   ],
   "source": [
    "c1_rewards, c1_regrets = run_exp(algorithms.epsilon_greedy, {'epsilon': epsilon}, num_episodes, num_runs)\n",
    "c2_rewards, c2_regrets = run_exp(algorithms.decaying_epsilon_greedy, {'episodes': num_episodes, 'init_epsilon': epsilon}, num_episodes, num_runs)\n",
    "c3_rewards, c3_regrets = run_exp(algorithms.ucb,{'c':2},num_episodes,num_runs)\n",
    "# Plotting\n",
    "plt.figure(figsize=(10, 6))\n",
    "plt.plot(c1_rewards, label='ε-greedy')\n",
    "plt.plot(c2_rewards, label='Decaying ε-greedy')\n",
    "plt.plot(c3_rewards, label='ucb values')\n",
    "plt.xlabel('Episodes')\n",
    "plt.ylabel('Cumulative Regrets')\n",
    "plt.title('Comparison of Bandit Strategies')\n",
    "plt.legend()\n",
    "plt.show()"
   ]
  },
  {
   "cell_type": "code",
   "execution_count": null,
   "metadata": {},
   "outputs": [],
   "source": []
  }
 ],
 "metadata": {
  "kernelspec": {
   "display_name": "Python 3 (ipykernel)",
   "language": "python",
   "name": "python3"
  },
  "language_info": {
   "codemirror_mode": {
    "name": "ipython",
    "version": 3
   },
   "file_extension": ".py",
   "mimetype": "text/x-python",
   "name": "python",
   "nbconvert_exporter": "python",
   "pygments_lexer": "ipython3",
   "version": "3.11.7"
  }
 },
 "nbformat": 4,
 "nbformat_minor": 4
}
